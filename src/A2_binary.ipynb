{
 "cells": [
  {
   "cell_type": "code",
   "execution_count": 1,
   "id": "34960fcd",
   "metadata": {},
   "outputs": [],
   "source": [
    "from qiskit.quantum_info import Statevector\n",
    "\n",
    "from util import zero, one"
   ]
  },
  {
   "cell_type": "markdown",
   "id": "641fe229",
   "metadata": {},
   "source": [
    "# Appendix: Binary Notation"
   ]
  },
  {
   "cell_type": "markdown",
   "id": "e182595c",
   "metadata": {},
   "source": [
    "The notation\n",
    "\n",
    "$$\n",
    "\\overline{j} = j_{n-1} \\dots j_0\n",
    "$$\n",
    "\n",
    "converts the number $j$ into its binary expansion (in little Endian) in $n$ bits, i.e.,\n",
    "\n",
    "\\begin{align*}\n",
    "j & = j_{n-1} 2^{n-1} + j_{n-2} 2^{n-2} + \\dots + j_0 2^0 \\,.\n",
    "\\end{align*}"
   ]
  },
  {
   "cell_type": "code",
   "execution_count": 2,
   "id": "ca7c28b6",
   "metadata": {},
   "outputs": [],
   "source": [
    "def to_binary(num_qubits: int, j: int) -> list[int]:\n",
    "    return [int(x) for x in f\"{j:0{num_qubits}b}\"]"
   ]
  },
  {
   "cell_type": "markdown",
   "id": "41d80e82",
   "metadata": {},
   "source": [
    "The notation\n",
    "\n",
    "$$\n",
    "|\\overline{j}\\rangle = |j_{n-1} \\dots j_0 \\rangle\n",
    "$$\n",
    "\n",
    "thus indicates a computational basis in $n$ qubits. As an example,\n",
    "\n",
    "$$\n",
    "|\\overline{6}\\rangle = |110\\rangle\n",
    "$$\n",
    "\n",
    "for $n = 3$."
   ]
  },
  {
   "cell_type": "code",
   "execution_count": 3,
   "id": "89f34fb7",
   "metadata": {},
   "outputs": [],
   "source": [
    "def idx_to_basis(num_qubits: int, j: int) -> Statevector:\n",
    "    vecs = [zero if x == 0 else one for x in to_binary(num_qubits, j)]\n",
    "    acc = vecs[-1]\n",
    "    for v in vecs[-2::-1]:\n",
    "        acc = v ^ acc\n",
    "    return acc"
   ]
  },
  {
   "cell_type": "code",
   "execution_count": 4,
   "id": "b74b2941",
   "metadata": {},
   "outputs": [
    {
     "data": {
      "text/latex": [
       "$$ |000\\rangle$$"
      ],
      "text/plain": [
       "<IPython.core.display.Latex object>"
      ]
     },
     "execution_count": 4,
     "metadata": {},
     "output_type": "execute_result"
    }
   ],
   "source": [
    "idx_to_basis(3, 0).draw(\"latex\")"
   ]
  },
  {
   "cell_type": "code",
   "execution_count": 5,
   "id": "aaf9297d",
   "metadata": {},
   "outputs": [
    {
     "data": {
      "text/latex": [
       "$$ |001\\rangle$$"
      ],
      "text/plain": [
       "<IPython.core.display.Latex object>"
      ]
     },
     "execution_count": 5,
     "metadata": {},
     "output_type": "execute_result"
    }
   ],
   "source": [
    "idx_to_basis(3, 1).draw(\"latex\")"
   ]
  },
  {
   "cell_type": "code",
   "execution_count": 6,
   "id": "d64b61b2",
   "metadata": {},
   "outputs": [
    {
     "data": {
      "text/latex": [
       "$$ |010\\rangle$$"
      ],
      "text/plain": [
       "<IPython.core.display.Latex object>"
      ]
     },
     "execution_count": 6,
     "metadata": {},
     "output_type": "execute_result"
    }
   ],
   "source": [
    "idx_to_basis(3, 2).draw(\"latex\")"
   ]
  },
  {
   "cell_type": "code",
   "execution_count": 7,
   "id": "21658700",
   "metadata": {},
   "outputs": [
    {
     "data": {
      "text/latex": [
       "$$ |011\\rangle$$"
      ],
      "text/plain": [
       "<IPython.core.display.Latex object>"
      ]
     },
     "execution_count": 7,
     "metadata": {},
     "output_type": "execute_result"
    }
   ],
   "source": [
    "idx_to_basis(3, 3).draw(\"latex\")"
   ]
  },
  {
   "cell_type": "code",
   "execution_count": 8,
   "id": "5c5b480a",
   "metadata": {},
   "outputs": [
    {
     "data": {
      "text/latex": [
       "$$ |100\\rangle$$"
      ],
      "text/plain": [
       "<IPython.core.display.Latex object>"
      ]
     },
     "execution_count": 8,
     "metadata": {},
     "output_type": "execute_result"
    }
   ],
   "source": [
    "idx_to_basis(3, 4).draw(\"latex\")"
   ]
  },
  {
   "cell_type": "code",
   "execution_count": 9,
   "id": "6e9fe984",
   "metadata": {},
   "outputs": [
    {
     "data": {
      "text/latex": [
       "$$ |101\\rangle$$"
      ],
      "text/plain": [
       "<IPython.core.display.Latex object>"
      ]
     },
     "execution_count": 9,
     "metadata": {},
     "output_type": "execute_result"
    }
   ],
   "source": [
    "idx_to_basis(3, 5).draw(\"latex\")"
   ]
  },
  {
   "cell_type": "code",
   "execution_count": 10,
   "id": "69be9e0e",
   "metadata": {},
   "outputs": [
    {
     "data": {
      "text/latex": [
       "$$ |110\\rangle$$"
      ],
      "text/plain": [
       "<IPython.core.display.Latex object>"
      ]
     },
     "execution_count": 10,
     "metadata": {},
     "output_type": "execute_result"
    }
   ],
   "source": [
    "idx_to_basis(3, 6).draw(\"latex\")"
   ]
  },
  {
   "cell_type": "code",
   "execution_count": 11,
   "id": "9192f671",
   "metadata": {},
   "outputs": [
    {
     "data": {
      "text/latex": [
       "$$ |111\\rangle$$"
      ],
      "text/plain": [
       "<IPython.core.display.Latex object>"
      ]
     },
     "execution_count": 11,
     "metadata": {},
     "output_type": "execute_result"
    }
   ],
   "source": [
    "idx_to_basis(3, 7).draw(\"latex\")"
   ]
  },
  {
   "cell_type": "code",
   "execution_count": null,
   "id": "0511bad8",
   "metadata": {},
   "outputs": [],
   "source": []
  }
 ],
 "metadata": {
  "kernelspec": {
   "display_name": "Python 3 (ipykernel)",
   "language": "python",
   "name": "python3"
  },
  "language_info": {
   "codemirror_mode": {
    "name": "ipython",
    "version": 3
   },
   "file_extension": ".py",
   "mimetype": "text/x-python",
   "name": "python",
   "nbconvert_exporter": "python",
   "pygments_lexer": "ipython3",
   "version": "3.11.5"
  }
 },
 "nbformat": 4,
 "nbformat_minor": 5
}

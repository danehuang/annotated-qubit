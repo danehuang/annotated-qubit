{
 "cells": [
  {
   "cell_type": "code",
   "execution_count": 1,
   "id": "78c95991",
   "metadata": {},
   "outputs": [],
   "source": [
    "import numpy as np\n",
    "import matplotlib.pyplot as plt"
   ]
  },
  {
   "cell_type": "markdown",
   "id": "8dfcad89",
   "metadata": {},
   "source": [
    "# Appendix: Complex Numbers\n",
    "\n",
    "We'll review **complex numbers** (written $\\mathbb{C}$). Complex numbers are integral to defining quantum states and quantum computations. "
   ]
  },
  {
   "cell_type": "markdown",
   "id": "6228259e",
   "metadata": {},
   "source": [
    "## Definition of a Complex Number\n",
    "\n",
    "A complex number $z \\in \\mathbb{C}$ is a pair of real numbers $(a, b)$ typically written\n",
    "\n",
    "$$\n",
    "z = a + bj \\,.\n",
    "$$\n",
    "\n",
    "1. The number $a$ is called the *real* component.\n",
    "2. The number $b$ is called the *imaginary* component. The letter $j$ (or $i$ is notation of imaginary).\n",
    "\n",
    "An imaginary number is defined to be\n",
    "\n",
    "$$\n",
    "j = \\sqrt{-1} \\,.\n",
    "$$\n",
    "\n",
    "You will more traditionally in mathematics see the notation\n",
    "\n",
    "$$\n",
    "i = \\sqrt{-1} \\,.\n",
    "$$"
   ]
  },
  {
   "cell_type": "markdown",
   "id": "d704a943",
   "metadata": {},
   "source": [
    "### Examples\n",
    "\n",
    "Some examples of complex numbers using numpy."
   ]
  },
  {
   "cell_type": "code",
   "execution_count": 2,
   "id": "a7d5f12f",
   "metadata": {},
   "outputs": [
    {
     "data": {
      "text/plain": [
       "((1+2j), 1.0, 2.0)"
      ]
     },
     "execution_count": 2,
     "metadata": {},
     "output_type": "execute_result"
    }
   ],
   "source": [
    "z1 = 1 + 2j\n",
    "z1, z1.real, z1.imag"
   ]
  },
  {
   "cell_type": "code",
   "execution_count": 3,
   "id": "6268e9a6",
   "metadata": {},
   "outputs": [
    {
     "data": {
      "text/plain": [
       "((0.3-0.2j), 0.3, -0.2)"
      ]
     },
     "execution_count": 3,
     "metadata": {},
     "output_type": "execute_result"
    }
   ],
   "source": [
    "z2 = .3 - .2j\n",
    "z2, z2.real, z2.imag"
   ]
  },
  {
   "cell_type": "code",
   "execution_count": 4,
   "id": "01245d8d",
   "metadata": {},
   "outputs": [
    {
     "data": {
      "text/plain": [
       "((-2.4+3.2j), -2.4, 3.2)"
      ]
     },
     "execution_count": 4,
     "metadata": {},
     "output_type": "execute_result"
    }
   ],
   "source": [
    "z3 = -2.4 + 3.2j\n",
    "z3, z3.real, z3.imag"
   ]
  },
  {
   "cell_type": "code",
   "execution_count": 5,
   "id": "27bcfbf7",
   "metadata": {},
   "outputs": [
    {
     "data": {
      "text/plain": [
       "((-1.4-1.2j), -1.4, -1.2)"
      ]
     },
     "execution_count": 5,
     "metadata": {},
     "output_type": "execute_result"
    }
   ],
   "source": [
    "z4 = -1.4 - 1.2j\n",
    "z4, z4.real, z4.imag"
   ]
  },
  {
   "cell_type": "code",
   "execution_count": 6,
   "id": "b2ec277f",
   "metadata": {},
   "outputs": [
    {
     "data": {
      "text/plain": [
       "((1+0j), 1.0, 0.0)"
      ]
     },
     "execution_count": 6,
     "metadata": {},
     "output_type": "execute_result"
    }
   ],
   "source": [
    "z5 = 1 + 0j  # Non-imaginary\n",
    "z5, z5.real, z5.imag"
   ]
  },
  {
   "cell_type": "code",
   "execution_count": 7,
   "id": "9c5c7a6b",
   "metadata": {},
   "outputs": [
    {
     "data": {
      "text/plain": [
       "(1j, 0.0, 1.0)"
      ]
     },
     "execution_count": 7,
     "metadata": {},
     "output_type": "execute_result"
    }
   ],
   "source": [
    "z6 = 0 + 1j  # Fully-imaginary\n",
    "z6, z6.real, z6.imag"
   ]
  },
  {
   "cell_type": "markdown",
   "id": "c5c81aec",
   "metadata": {},
   "source": [
    "### Imaginary Plane\n",
    "\n",
    "A complex number can be represented as a point in the **complex plane**."
   ]
  },
  {
   "cell_type": "code",
   "execution_count": 8,
   "id": "86834a56",
   "metadata": {},
   "outputs": [
    {
     "data": {
      "text/plain": [
       "Text(0.5, 1.0, 'Imaginary Plane')"
      ]
     },
     "execution_count": 8,
     "metadata": {},
     "output_type": "execute_result"
    },
    {
     "data": {
      "image/png": "[encoded data removed]",
      "text/plain": [
       "<Figure size 400x400 with 1 Axes>"
      ]
     },
     "metadata": {},
     "output_type": "display_data"
    }
   ],
   "source": [
    "fig = plt.figure(figsize=(4, 4)); ax = fig.add_subplot()\n",
    "ax.set_aspect(1.0/ax.get_data_ratio(), adjustable='box')\n",
    "\n",
    "# Complex Numbers\n",
    "zs = [z1, z2, z3, z4, z5, z6]\n",
    "plt.plot([z.real for z in zs], [z.imag for z in zs], marker='o', linestyle='none')\n",
    "\n",
    "# Plot meta-data\n",
    "plt.axhline(y=0.0, color='r', linestyle='-'); plt.axvline(x=0.0, color='r', linestyle='-')\n",
    "plt.xlabel('Real'); plt.ylabel('Imaginary'); plt.title('Imaginary Plane')"
   ]
  },
  {
   "cell_type": "markdown",
   "id": "470e13ec",
   "metadata": {},
   "source": [
    "## Operations on Complex Numbers\n",
    "\n",
    "We'll review operations on complex numbers, including arithmetic, the **magnitude** of a complex number, and **complex conjugation**."
   ]
  },
  {
   "cell_type": "markdown",
   "id": "b94a576d",
   "metadata": {},
   "source": [
    "### Arithmetic on complex numbers\n",
    "\n",
    "We can perform operations on complex numbers:\n",
    "1. Addition: $(a + bj) + (c + dj) = (a + c) + (b + d)j$.\n",
    "2. Negation: $-(a + bj) = (-a) + (-b)j$.\n",
    "3. Multiplication: $(a + bj) \\cdot (c + dj) = (ac - bd) + (ad + bc)j$.\n",
    "4. Inverse: $1/(a + bj) = a/(a^2 + b^2) + (-b/(a^2 + b^2))j$."
   ]
  },
  {
   "cell_type": "code",
   "execution_count": 9,
   "id": "965bdcbf",
   "metadata": {},
   "outputs": [
    {
     "data": {
      "text/plain": [
       "((1.3+1.8j), (1.3+1.8j))"
      ]
     },
     "execution_count": 9,
     "metadata": {},
     "output_type": "execute_result"
    }
   ],
   "source": [
    "z1 = (1 + 2j)\n",
    "z2 = (.3 - .2j)\n",
    "z1 + z2, z1.real + z2.real + (z1.imag + z2.imag)*1j"
   ]
  },
  {
   "cell_type": "code",
   "execution_count": 10,
   "id": "e48ed9f1",
   "metadata": {},
   "outputs": [
    {
     "data": {
      "text/plain": [
       "((-1-2j), (-1-2j))"
      ]
     },
     "execution_count": 10,
     "metadata": {},
     "output_type": "execute_result"
    }
   ],
   "source": [
    "z1 = (1 + 2j)\n",
    "-z1, -z1.real + (-z1.imag)*1j"
   ]
  },
  {
   "cell_type": "code",
   "execution_count": 11,
   "id": "775a15b3",
   "metadata": {},
   "outputs": [
    {
     "data": {
      "text/plain": [
       "((0.7+2.2j), (0.7+2.2j))"
      ]
     },
     "execution_count": 11,
     "metadata": {},
     "output_type": "execute_result"
    }
   ],
   "source": [
    "# Subtraction is addition of negation\n",
    "z1 = (1 + 2j)\n",
    "z2 = (.3 - .2j)\n",
    "z1 - z2, z1.real - z2.real + (z1.imag - z2.imag)*1j"
   ]
  },
  {
   "cell_type": "code",
   "execution_count": 12,
   "id": "5cc5d697",
   "metadata": {},
   "outputs": [
    {
     "data": {
      "text/plain": [
       "(7.199999999999999-1.5999999999999996j)"
      ]
     },
     "execution_count": 12,
     "metadata": {},
     "output_type": "execute_result"
    }
   ],
   "source": [
    "z3 = -2.4 + 3.2j\n",
    "z4 = -1.4 - 1.2j\n",
    "z3 * z4"
   ]
  },
  {
   "cell_type": "code",
   "execution_count": 13,
   "id": "e011530a",
   "metadata": {},
   "outputs": [
    {
     "data": {
      "text/plain": [
       "(2.3076923076923075+1.5384615384615385j)"
      ]
     },
     "execution_count": 13,
     "metadata": {},
     "output_type": "execute_result"
    }
   ],
   "source": [
    "z2 = (.3 - .2j)\n",
    "1 / z2"
   ]
  },
  {
   "cell_type": "markdown",
   "id": "a3e277ad",
   "metadata": {},
   "source": [
    "### Magnitude\n",
    "\n",
    "The magnitude of a complex number is given by\n",
    "\n",
    "$$\n",
    "|a + bj| = \\sqrt{a^2 + b^2} \\,.\n",
    "$$"
   ]
  },
  {
   "cell_type": "code",
   "execution_count": 14,
   "id": "7dae1e83",
   "metadata": {},
   "outputs": [
    {
     "data": {
      "text/plain": [
       "(np.float64(2.23606797749979), np.float64(2.23606797749979))"
      ]
     },
     "execution_count": 14,
     "metadata": {},
     "output_type": "execute_result"
    }
   ],
   "source": [
    "z1 = (1 + 2j)\n",
    "np.abs(z1), np.sqrt(z1.real**2 + z1.imag**2)"
   ]
  },
  {
   "cell_type": "code",
   "execution_count": 15,
   "id": "eab61a9c",
   "metadata": {},
   "outputs": [
    {
     "data": {
      "text/plain": [
       "(np.float64(0.3605551275463989), np.float64(0.36055512754639896))"
      ]
     },
     "execution_count": 15,
     "metadata": {},
     "output_type": "execute_result"
    }
   ],
   "source": [
    "z2 = (.3 - .2j)\n",
    "np.abs(z2), np.sqrt(z2.real**2 + z2.imag**2)"
   ]
  },
  {
   "cell_type": "markdown",
   "id": "f781cfb5",
   "metadata": {},
   "source": [
    "### Complex Conjugation\n",
    "\n",
    "The **complex conjugate** of a complex number is given by\n",
    "\n",
    "$$\n",
    "\\overline{a + bj} = a - bj\\,.\n",
    "$$"
   ]
  },
  {
   "cell_type": "code",
   "execution_count": 16,
   "id": "960cf6a7",
   "metadata": {},
   "outputs": [
    {
     "data": {
      "text/plain": [
       "np.complex128(1-2j)"
      ]
     },
     "execution_count": 16,
     "metadata": {},
     "output_type": "execute_result"
    }
   ],
   "source": [
    "z1 = (1 + 2j)\n",
    "np.conjugate(z1)"
   ]
  },
  {
   "cell_type": "code",
   "execution_count": 17,
   "id": "075d855d",
   "metadata": {},
   "outputs": [
    {
     "data": {
      "text/plain": [
       "np.complex128(0.3+0.2j)"
      ]
     },
     "execution_count": 17,
     "metadata": {},
     "output_type": "execute_result"
    }
   ],
   "source": [
    "z2 = (.3 - .2j)\n",
    "np.conjugate(z2)"
   ]
  },
  {
   "cell_type": "markdown",
   "id": "ccc8b5a7",
   "metadata": {},
   "source": [
    "### Geometric Intuition\n",
    "\n",
    "1. Every operation on a complex number can be visualized in the complex plane.\n",
    "2. For example, the complex conjugate of a number is a reflection over the real axis in the complex plane. Exercise: what is the geometric operation corresponding to negation?"
   ]
  },
  {
   "cell_type": "code",
   "execution_count": 18,
   "id": "79c3ba8b",
   "metadata": {},
   "outputs": [
    {
     "data": {
      "image/png": "[encoded data removed]",
      "text/plain": [
       "<Figure size 400x400 with 1 Axes>"
      ]
     },
     "metadata": {},
     "output_type": "display_data"
    }
   ],
   "source": [
    "fig = plt.figure(figsize=(4, 4)); ax = fig.add_subplot()\n",
    "ax.set_aspect(1.0/ax.get_data_ratio(), adjustable='box')\n",
    "\n",
    "# Complex Numbers\n",
    "zs = [z1, np.conjugate(z1), z2, np.conjugate(z2)]; txt = [\"z1\", r\"$\\overline{z1}$\", r\"z2\", r\"$\\overline{z2}$\"]\n",
    "plt.scatter([z.real for z in zs], [z.imag for z in zs])\n",
    "for i, t in enumerate(txt):\n",
    "    plt.annotate(t, (zs[i].real, zs[i].imag))\n",
    "\n",
    "# Plot meta-data\n",
    "plt.axhline(y=0.0, color='r', linestyle='-'); plt.axvline(x=0.0, color='r', linestyle='-')\n",
    "plt.xlabel('Real'); plt.ylabel('Imaginary'); plt.title('Imaginary Plane');"
   ]
  },
  {
   "cell_type": "markdown",
   "id": "3f32cb28",
   "metadata": {},
   "source": [
    "## Pairs of Complex Numbers\n",
    "\n",
    "We will now introduce pairs of complex numbers $\\mathbb{C}^2$. We will write a pair of complex numbers using the notation\n",
    "\n",
    "$$\n",
    "\\begin{pmatrix}\n",
    "a \\\\\n",
    "b \\\\\n",
    "\\end{pmatrix} \\in \\mathbb{C}^2\n",
    "$$\n",
    "\n",
    "where $a, b \\in \\mathbb{C}$ are complex numbers. We will see later that this is a **vector space**."
   ]
  },
  {
   "cell_type": "code",
   "execution_count": 19,
   "id": "6eae5b08",
   "metadata": {},
   "outputs": [
    {
     "data": {
      "text/plain": [
       "((1+2j), (0.3-0.2j), array([1. +2.j , 0.3-0.2j]))"
      ]
     },
     "execution_count": 19,
     "metadata": {},
     "output_type": "execute_result"
    }
   ],
   "source": [
    "p1 = np.array([z1, z2])\n",
    "z1, z2, p1"
   ]
  },
  {
   "cell_type": "code",
   "execution_count": 20,
   "id": "1e075f7a",
   "metadata": {},
   "outputs": [
    {
     "data": {
      "text/plain": [
       "((-2.4+3.2j), (-1.4-1.2j), array([-2.4+3.2j, -1.4-1.2j]))"
      ]
     },
     "execution_count": 20,
     "metadata": {},
     "output_type": "execute_result"
    }
   ],
   "source": [
    "p2 = np.array([z3, z4])\n",
    "z3, z4, p2"
   ]
  },
  {
   "cell_type": "markdown",
   "id": "9f6bd5f5",
   "metadata": {},
   "source": [
    "### Arithmetic on Complex Pairs\n",
    "\n",
    "We can perform operations on pairs of complex number:\n",
    "1. Addition: \n",
    "\n",
    "$$\n",
    "\\begin{pmatrix}\n",
    "a \\\\\n",
    "b \n",
    "\\end{pmatrix} + \n",
    "\\begin{pmatrix}\n",
    "c \\\\\n",
    "d \n",
    "\\end{pmatrix} = \\begin{pmatrix}\n",
    "a + c \\\\\n",
    "b + d\n",
    "\\end{pmatrix}\n",
    "$$\n",
    "\n",
    "2. Multiplication:\n",
    "\n",
    "$$\n",
    "r\\begin{pmatrix}\n",
    "a \\\\\n",
    "b \n",
    "\\end{pmatrix} = \\begin{pmatrix}\n",
    "ra \\\\\n",
    "rb\n",
    "\\end{pmatrix}\n",
    "$$\n",
    "\n",
    "where $r \\in \\mathbb{C}$."
   ]
  },
  {
   "cell_type": "code",
   "execution_count": 21,
   "id": "267b5145",
   "metadata": {},
   "outputs": [
    {
     "data": {
      "text/plain": [
       "(array([1. +2.j , 0.3-0.2j]),\n",
       " array([-2.4+3.2j, -1.4-1.2j]),\n",
       " array([-1.4+5.2j, -1.1-1.4j]))"
      ]
     },
     "execution_count": 21,
     "metadata": {},
     "output_type": "execute_result"
    }
   ],
   "source": [
    "p1, p2, p1 + p2"
   ]
  },
  {
   "cell_type": "code",
   "execution_count": 22,
   "id": "0cb64042",
   "metadata": {},
   "outputs": [
    {
     "data": {
      "text/plain": [
       "(array([1. +2.j , 0.3-0.2j]), array([-1. -2.j , -0.3+0.2j]))"
      ]
     },
     "execution_count": 22,
     "metadata": {},
     "output_type": "execute_result"
    }
   ],
   "source": [
    "p1, -1 * p1"
   ]
  }
 ],
 "metadata": {
  "kernelspec": {
   "display_name": "Python 3 (ipykernel)",
   "language": "python",
   "name": "python3"
  },
  "language_info": {
   "codemirror_mode": {
    "name": "ipython",
    "version": 3
   },
   "file_extension": ".py",
   "mimetype": "text/x-python",
   "name": "python",
   "nbconvert_exporter": "python",
   "pygments_lexer": "ipython3",
   "version": "3.12.4"
  }
 },
 "nbformat": 4,
 "nbformat_minor": 5
}

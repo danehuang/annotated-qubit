{
 "cells": [
  {
   "cell_type": "code",
   "execution_count": 1,
   "id": "69f016df",
   "metadata": {},
   "outputs": [],
   "source": [
    "import numpy as np\n",
    "import matplotlib.pyplot as plt\n",
    "\n",
    "from qiskit import QuantumCircuit, QuantumRegister\n",
    "from qiskit_aer import AerSimulator\n",
    "from qiskit.quantum_info import Statevector, Operator\n",
    "from qiskit.visualization import plot_histogram, plot_bloch_multivector\n",
    "sim = AerSimulator()\n",
    "\n",
    "from util import zero, one, H, X"
   ]
  },
  {
   "cell_type": "markdown",
   "id": "be6a28ff",
   "metadata": {},
   "source": [
    "# Foundations II: Quantum Circuits for Multi-Qubit Systems\n",
    "\n",
    "We will introduce quantum circuits that act on **multi-qubit** systems in this notebook. Multi-qubit circuits enable us to entangle qubits and harness the power of quantum computation.\n",
    "\n",
    "References\n",
    "1. [Introduction to Classical and Quantum Computing: Chapter 4](https://www.thomaswong.net/introduction-to-classical-and-quantum-computing-1e4p.pdf)"
   ]
  },
  {
   "cell_type": "markdown",
   "id": "fbd8056b",
   "metadata": {},
   "source": [
    "## Multi-Qubit Gates\n",
    "\n",
    "The building blocks of quantum circuits that operate on multi-qubit systems are **multi-qubit** gates. A quantum gate $G$ that acts on two qubits can be represented as a $4 \\times 4$ unitary matrix, i.e., $G \\in \\mathcal{U}(4)$. We'll start with a SWAP gate."
   ]
  },
  {
   "cell_type": "markdown",
   "id": "d453ca77",
   "metadata": {},
   "source": [
    "### Swap Gate\n",
    "\n",
    "The SWAP gate swaps two qubits as below\n",
    "\n",
    "$$\n",
    "SWAP|q_2 q_1\\rangle = |q_1 q_2\\rangle \\,.\n",
    "$$"
   ]
  },
  {
   "cell_type": "code",
   "execution_count": 2,
   "id": "130a8134",
   "metadata": {},
   "outputs": [
    {
     "data": {
      "image/png": "[encoded data removed]",
      "text/plain": [
       "<Figure size 203.683x200.667 with 1 Axes>"
      ]
     },
     "execution_count": 2,
     "metadata": {},
     "output_type": "execute_result"
    }
   ],
   "source": [
    "qc_swap = QuantumCircuit(2)\n",
    "qc_swap.swap(0, 1)\n",
    "qc_swap.draw(output=\"mpl\", style=\"iqp\")"
   ]
  },
  {
   "cell_type": "markdown",
   "id": "9ed97b5d",
   "metadata": {},
   "source": [
    "#### Unitary Matrix for Swap Gate\n",
    "\n",
    "Like single qubit gates, every two qubit gate also has a corresponding unitary matrix. In the case of a two qubit gate, we have a $4 \\times 4$ unitary matrix. The unitary matrix for a SAWP gate is given below."
   ]
  },
  {
   "cell_type": "code",
   "execution_count": 3,
   "id": "f931d828",
   "metadata": {},
   "outputs": [
    {
     "data": {
      "text/latex": [
       "$$\n",
       "\n",
       "\\begin{bmatrix}\n",
       "1 & 0 & 0 & 0  \\\\\n",
       " 0 & 0 & 1 & 0  \\\\\n",
       " 0 & 1 & 0 & 0  \\\\\n",
       " 0 & 0 & 0 & 1  \\\\\n",
       " \\end{bmatrix}\n",
       "$$"
      ],
      "text/plain": [
       "<IPython.core.display.Latex object>"
      ]
     },
     "execution_count": 3,
     "metadata": {},
     "output_type": "execute_result"
    }
   ],
   "source": [
    "SWAP = Operator(qc_swap)\n",
    "SWAP.draw(\"latex\")"
   ]
  },
  {
   "cell_type": "code",
   "execution_count": 4,
   "id": "3c53ddf7",
   "metadata": {},
   "outputs": [
    {
     "data": {
      "text/plain": [
       "True"
      ]
     },
     "execution_count": 4,
     "metadata": {},
     "output_type": "execute_result"
    }
   ],
   "source": [
    "# Swapping |10> to |01>\n",
    "np.allclose((zero ^ one).evolve(SWAP), one ^ zero)"
   ]
  },
  {
   "cell_type": "markdown",
   "id": "94ddb48b",
   "metadata": {},
   "source": [
    "### CNOT Gate\n",
    "\n",
    "1. The cnot gate is a two qubit gate with a **control qubit** and a **target qubit**.\n",
    "2. If the control qubit is set, it flips the target qubit.\n",
    "3. Otherwise, it does nothing."
   ]
  },
  {
   "cell_type": "code",
   "execution_count": 5,
   "id": "ca04dd4f",
   "metadata": {},
   "outputs": [
    {
     "data": {
      "image/png": "[encoded data removed]",
      "text/plain": [
       "<Figure size 267.981x200.667 with 1 Axes>"
      ]
     },
     "execution_count": 5,
     "metadata": {},
     "output_type": "execute_result"
    }
   ],
   "source": [
    "control = QuantumRegister(1, \"control\")\n",
    "target = QuantumRegister(1, \"target\")\n",
    "qc_cnot = QuantumCircuit(control, target)\n",
    "qc_cnot.cx(0, 1)  # 0 is control, 1 is target\n",
    "qc_cnot.draw(output=\"mpl\", style=\"iqp\")"
   ]
  },
  {
   "cell_type": "markdown",
   "id": "e845b5e3",
   "metadata": {},
   "source": [
    "The unitary matrix for a CNOT gate is given below."
   ]
  },
  {
   "cell_type": "code",
   "execution_count": 6,
   "id": "c63de3fb",
   "metadata": {},
   "outputs": [
    {
     "data": {
      "text/latex": [
       "$$\n",
       "\n",
       "\\begin{bmatrix}\n",
       "1 & 0 & 0 & 0  \\\\\n",
       " 0 & 0 & 0 & 1  \\\\\n",
       " 0 & 0 & 1 & 0  \\\\\n",
       " 0 & 1 & 0 & 0  \\\\\n",
       " \\end{bmatrix}\n",
       "$$"
      ],
      "text/plain": [
       "<IPython.core.display.Latex object>"
      ]
     },
     "execution_count": 6,
     "metadata": {},
     "output_type": "execute_result"
    }
   ],
   "source": [
    "CNOT = Operator(qc_cnot)\n",
    "CNOT.draw(\"latex\")"
   ]
  },
  {
   "cell_type": "code",
   "execution_count": 7,
   "id": "a469d3e1",
   "metadata": {},
   "outputs": [
    {
     "name": "stdout",
     "output_type": "stream",
     "text": [
      "Statevector([1.+0.j, 0.+0.j, 0.+0.j, 0.+0.j],\n",
      "            dims=(2, 2))\n",
      "Statevector([0.+0.j, 0.+0.j, 1.+0.j, 0.+0.j],\n",
      "            dims=(2, 2))\n",
      "Statevector([0.+0.j, 0.+0.j, 0.+0.j, 1.+0.j],\n",
      "            dims=(2, 2))\n",
      "Statevector([0.+0.j, 1.+0.j, 0.+0.j, 0.+0.j],\n",
      "            dims=(2, 2))\n"
     ]
    }
   ],
   "source": [
    "# |00> -> |00> (reminder, little endian)\n",
    "print((zero ^ zero).evolve(Operator(qc_cnot)))\n",
    "# |01> -> |01> (reminder, little endian)\n",
    "print((one ^ zero).evolve(Operator(qc_cnot)))\n",
    "# |10> -> |11> (reminder, little endian)\n",
    "print((zero ^ one).evolve(Operator(qc_cnot)))\n",
    "# |11> -> |10> (reminder, little endian)\n",
    "print((one ^ one).evolve(Operator(qc_cnot)))"
   ]
  },
  {
   "cell_type": "markdown",
   "id": "8b3008d1",
   "metadata": {},
   "source": [
    "### Toffoli gate\n",
    "\n",
    "The Toffoli gate, notated CCX, is an example of a three qubit gate. A quantum gate $G$ that acts on three qubits can be represented as a $8 \\times 8$ unitary matrix, i.e., $G \\in \\mathcal{U}(8)$."
   ]
  },
  {
   "cell_type": "code",
   "execution_count": 8,
   "id": "2184cf4e",
   "metadata": {},
   "outputs": [
    {
     "data": {
      "image/png": "[encoded data removed]",
      "text/plain": [
       "<Figure size 203.885x284.278 with 1 Axes>"
      ]
     },
     "execution_count": 8,
     "metadata": {},
     "output_type": "execute_result"
    }
   ],
   "source": [
    "qc_ccx = QuantumCircuit(3)\n",
    "qc_ccx.ccx(0, 1, 2)\n",
    "qc_ccx.draw(output=\"mpl\", style=\"iqp\")"
   ]
  },
  {
   "cell_type": "code",
   "execution_count": 9,
   "id": "116a7675",
   "metadata": {},
   "outputs": [
    {
     "data": {
      "text/latex": [
       "$$\n",
       "\n",
       "\\begin{bmatrix}\n",
       "1 & 0 & 0 & 0 & 0 & 0 & 0 & 0  \\\\\n",
       " 0 & 1 & 0 & 0 & 0 & 0 & 0 & 0  \\\\\n",
       " 0 & 0 & 1 & 0 & 0 & 0 & 0 & 0  \\\\\n",
       " 0 & 0 & 0 & 0 & 0 & 0 & 0 & 1  \\\\\n",
       " 0 & 0 & 0 & 0 & 1 & 0 & 0 & 0  \\\\\n",
       " 0 & 0 & 0 & 0 & 0 & 1 & 0 & 0  \\\\\n",
       " 0 & 0 & 0 & 0 & 0 & 0 & 1 & 0  \\\\\n",
       " 0 & 0 & 0 & 1 & 0 & 0 & 0 & 0  \\\\\n",
       " \\end{bmatrix}\n",
       "$$"
      ],
      "text/plain": [
       "<IPython.core.display.Latex object>"
      ]
     },
     "execution_count": 9,
     "metadata": {},
     "output_type": "execute_result"
    }
   ],
   "source": [
    "Operator(qc_ccx).draw(\"latex\")   # another advantage of quantum circuits ..."
   ]
  },
  {
   "cell_type": "markdown",
   "id": "710cf617",
   "metadata": {},
   "source": [
    "## Multi-Qubit Circuits\n",
    "\n",
    "Similarly to single-qubit circuits, we can construct multi-qubit circuits out of single-qubit gates and multi-qubit gates. Multi-qubit gates can be sequenced and are reversible."
   ]
  },
  {
   "cell_type": "markdown",
   "id": "13937db0",
   "metadata": {},
   "source": [
    "### Property 1: Gates in parallel correspond to tensor product\n",
    "\n",
    "In a multi-qubit system, we can apply gates to different subset of qubits, i.e., in parallel. Below, we give an example where we apply an $H$ gate to $|q_0\\rangle$ and a $X$ gate to $|q_1\\rangle$."
   ]
  },
  {
   "cell_type": "code",
   "execution_count": 10,
   "id": "8d14b2ed",
   "metadata": {},
   "outputs": [
    {
     "data": {
      "image/png": "[encoded data removed]",
      "text/plain": [
       "<Figure size 203.683x200.667 with 1 Axes>"
      ]
     },
     "execution_count": 10,
     "metadata": {},
     "output_type": "execute_result"
    }
   ],
   "source": [
    "# 2-qubit system\n",
    "qc_xh = QuantumCircuit(2)\n",
    "qc_xh.h(0)\n",
    "qc_xh.x(1)\n",
    "qc_xh.draw(output=\"mpl\", style=\"iqp\")"
   ]
  },
  {
   "cell_type": "markdown",
   "id": "5d832091",
   "metadata": {},
   "source": [
    "The unitary matrix that corresponds to the two qubit gate that acts on $|q_1 q_0\\rangle$ is given by $X \\otimes H$ where $\\otimes$ is the tensor product."
   ]
  },
  {
   "cell_type": "markdown",
   "id": "ea22aea4",
   "metadata": {},
   "source": [
    "#### Aside: Tensor Product on Matrices\n",
    "\n",
    "Let \n",
    "\n",
    "$$\n",
    "A = \\begin{pmatrix}\n",
    "a_{11} & \\dots & a_{1n} \\\\\n",
    "\\vdots & \\ddots & \\vdots \\\\\n",
    "a_{n1} & \\dots & a_{nn} \\\\\n",
    "\\end{pmatrix}\n",
    "$$\n",
    "\n",
    "and\n",
    "\n",
    "$$\n",
    "B^{(m \\times m)} \\,.\n",
    "$$\n",
    "\n",
    "Then\n",
    "\n",
    "$$\n",
    "A \\otimes B\n",
    "= \n",
    "\\begin{pmatrix}\n",
    "a_{11} B & \\dots & a_{1n} B \\\\\n",
    "\\vdots & \\ddots & \\vdots \\\\\n",
    "a_{1n} B & \\dots & a_{nn} B \\\\\n",
    "\\end{pmatrix} \\,.\n",
    "$$"
   ]
  },
  {
   "cell_type": "markdown",
   "id": "f78b2e87",
   "metadata": {},
   "source": [
    "#### Example worked put\n",
    "\n",
    "\\begin{align*}\n",
    "X \\otimes H & = \\begin{pmatrix}\n",
    "0 & 1 \\\\\n",
    "1 & 0 \\\\\n",
    "\\end{pmatrix} \\otimes \\begin{pmatrix}\n",
    "1/\\sqrt{2} & 1/\\sqrt{2} \\\\\n",
    "1/\\sqrt{2} & -1/\\sqrt{2} \\\\\n",
    "\\end{pmatrix} \\\\\n",
    "& = \\begin{pmatrix}\n",
    "0 & 0 & 1/\\sqrt{2} & 1/\\sqrt{2} \\\\\n",
    "0 & 0 & 1/\\sqrt{2} & -1/\\sqrt{2} \\\\\n",
    "1/\\sqrt{2} & 1/\\sqrt{2} & 0 & 0 \\\\\n",
    "1/\\sqrt{2} & -1/\\sqrt{2} & 0 & 0 \\\\\n",
    "\\end{pmatrix}\n",
    "\\end{align*}"
   ]
  },
  {
   "cell_type": "code",
   "execution_count": 11,
   "id": "cd45ffe9",
   "metadata": {},
   "outputs": [
    {
     "data": {
      "text/latex": [
       "$$\n",
       "\n",
       "\\begin{bmatrix}\n",
       "0 & 0 & \\frac{\\sqrt{2}}{2} & \\frac{\\sqrt{2}}{2}  \\\\\n",
       " 0 & 0 & \\frac{\\sqrt{2}}{2} & - \\frac{\\sqrt{2}}{2}  \\\\\n",
       " \\frac{\\sqrt{2}}{2} & \\frac{\\sqrt{2}}{2} & 0 & 0  \\\\\n",
       " \\frac{\\sqrt{2}}{2} & - \\frac{\\sqrt{2}}{2} & 0 & 0  \\\\\n",
       " \\end{bmatrix}\n",
       "$$"
      ],
      "text/plain": [
       "<IPython.core.display.Latex object>"
      ]
     },
     "execution_count": 11,
     "metadata": {},
     "output_type": "execute_result"
    }
   ],
   "source": [
    "# Checking out our worked out example\n",
    "Operator(qc_xh).draw(\"latex\")"
   ]
  },
  {
   "cell_type": "markdown",
   "id": "3c0c86ac",
   "metadata": {},
   "source": [
    "### Property 2: Sequencing corresponds to matrix multiplication\n",
    "\n",
    "We can also sequence multi-qubit gates as we did with single-qubit gates."
   ]
  },
  {
   "cell_type": "code",
   "execution_count": 12,
   "id": "3e9b6d2d",
   "metadata": {},
   "outputs": [
    {
     "data": {
      "image/png": "[encoded data removed]",
      "text/plain": [
       "<Figure size 370.906x200.667 with 1 Axes>"
      ]
     },
     "execution_count": 12,
     "metadata": {},
     "output_type": "execute_result"
    }
   ],
   "source": [
    "qc = QuantumCircuit(2)\n",
    "qc.h(0)\n",
    "qc.x(1)\n",
    "qc.cx(0, 1)\n",
    "qc.h(1)\n",
    "qc.h(0)\n",
    "qc.draw(output=\"mpl\", style=\"iqp\")"
   ]
  },
  {
   "cell_type": "markdown",
   "id": "b260e427",
   "metadata": {},
   "source": [
    "In matrix notation (again remembering little endian) ...\n",
    "$$\n",
    "qc = (H \\otimes H) \\, \\text{CNOT} \\, (X \\otimes H)\n",
    "$$"
   ]
  },
  {
   "cell_type": "code",
   "execution_count": 13,
   "id": "f838518c",
   "metadata": {},
   "outputs": [
    {
     "data": {
      "text/latex": [
       "$$\n",
       "\n",
       "\\begin{bmatrix}\n",
       "\\frac{\\sqrt{2}}{2} & 0 & \\frac{\\sqrt{2}}{2} & 0  \\\\\n",
       " 0 & \\frac{\\sqrt{2}}{2} & 0 & \\frac{\\sqrt{2}}{2}  \\\\\n",
       " 0 & - \\frac{\\sqrt{2}}{2} & 0 & \\frac{\\sqrt{2}}{2}  \\\\\n",
       " - \\frac{\\sqrt{2}}{2} & 0 & \\frac{\\sqrt{2}}{2} & 0  \\\\\n",
       " \\end{bmatrix}\n",
       "$$"
      ],
      "text/plain": [
       "<IPython.core.display.Latex object>"
      ]
     },
     "execution_count": 13,
     "metadata": {},
     "output_type": "execute_result"
    }
   ],
   "source": [
    "op = (X.tensor(H)).compose(CNOT).compose(H.tensor(H))\n",
    "op.draw(\"latex\")"
   ]
  },
  {
   "cell_type": "code",
   "execution_count": 14,
   "id": "cd31794c",
   "metadata": {},
   "outputs": [
    {
     "data": {
      "text/plain": [
       "True"
      ]
     },
     "execution_count": 14,
     "metadata": {},
     "output_type": "execute_result"
    }
   ],
   "source": [
    "np.allclose(Operator(qc), op)"
   ]
  },
  {
   "cell_type": "markdown",
   "id": "287c3640",
   "metadata": {},
   "source": [
    "#### Property 3: Reversability\n",
    "\n",
    "1. Recall that every unitary $U$ has a conjugate transpose $U^\\dagger$ such that $UU^\\dagger = I$.\n",
    "2. Fact: $(ABC)^\\dagger = C^\\dagger B^\\dagger A^\\dagger$.\n",
    "\n",
    "Thus\n",
    "$$\n",
    "((X \\otimes H) \\, \\text{CNOT} \\, (H \\otimes H))^\\dagger = (H \\otimes H)^\\dagger \\, \\text{CNOT}^\\dagger \\, (X \\otimes H)^\\dagger\n",
    "$$"
   ]
  },
  {
   "cell_type": "code",
   "execution_count": 15,
   "id": "15dccfd9",
   "metadata": {},
   "outputs": [
    {
     "data": {
      "text/latex": [
       "$$\n",
       "\n",
       "\\begin{bmatrix}\n",
       "1 & 0 & 0 & 0  \\\\\n",
       " 0 & 1 & 0 & 0  \\\\\n",
       " 0 & 0 & 1 & 0  \\\\\n",
       " 0 & 0 & 0 & 1  \\\\\n",
       " \\end{bmatrix}\n",
       "$$"
      ],
      "text/plain": [
       "<IPython.core.display.Latex object>"
      ]
     },
     "execution_count": 15,
     "metadata": {},
     "output_type": "execute_result"
    }
   ],
   "source": [
    "# cnot is its own inverse\n",
    "CNOT.compose(CNOT).draw(\"latex\")"
   ]
  },
  {
   "cell_type": "code",
   "execution_count": 16,
   "id": "262ad4c4",
   "metadata": {},
   "outputs": [
    {
     "data": {
      "image/png": "[encoded data removed]",
      "text/plain": [
       "<Figure size 370.906x200.667 with 1 Axes>"
      ]
     },
     "execution_count": 16,
     "metadata": {},
     "output_type": "execute_result"
    }
   ],
   "source": [
    "qc_rev = QuantumCircuit(2)\n",
    "qc_rev.h(1)\n",
    "qc_rev.h(0)\n",
    "qc_rev.cx(0, 1)\n",
    "qc_rev.h(0)\n",
    "qc_rev.x(1)\n",
    "qc_rev.draw(output=\"mpl\", style=\"iqp\")"
   ]
  },
  {
   "cell_type": "code",
   "execution_count": 17,
   "id": "b0b7d533",
   "metadata": {},
   "outputs": [
    {
     "data": {
      "text/plain": [
       "True"
      ]
     },
     "execution_count": 17,
     "metadata": {},
     "output_type": "execute_result"
    }
   ],
   "source": [
    "# Should be close to identity\n",
    "np.allclose(Operator(qc_rev).compose(Operator(qc)), np.eye(4))"
   ]
  },
  {
   "cell_type": "markdown",
   "id": "6db684df",
   "metadata": {},
   "source": [
    "## Entanglement\n",
    "\n",
    "Multi-qubit circuits enable us to construct entangled qubits which we can harness to leverage the exponential representational capacity of a a system of $n$-qubits without incurring an exponential number of operations. Before we give an example of how to entangle qubits with a multi-qubit circuit, we'll discuss the situation where two qubits are not entangled in a multi-qubit system."
   ]
  },
  {
   "cell_type": "markdown",
   "id": "3841821c",
   "metadata": {},
   "source": [
    "### Non-entangled Computations\n",
    "\n",
    "As a reminder, two qubits are said to be entangled if they cannot be written as the tensor product of two single qubit systems. A multi-qubit circuit that acts on unentangled qubits can be thus be applied in parallel."
   ]
  },
  {
   "cell_type": "markdown",
   "id": "61e5f4a6",
   "metadata": {},
   "source": [
    "#### Example\n",
    "\n",
    "Suppose we run two single qubit systems that are run in parallel."
   ]
  },
  {
   "cell_type": "code",
   "execution_count": 18,
   "id": "e70f4d4e",
   "metadata": {},
   "outputs": [],
   "source": [
    "# 2 circuits in parallel\n",
    "qc_h = QuantumCircuit(QuantumRegister(1, \"q_0\")); qc_h.h(0)\n",
    "qc_x = QuantumCircuit(QuantumRegister(1, \"q_1\")); qc_x.x(0);"
   ]
  },
  {
   "cell_type": "code",
   "execution_count": 19,
   "id": "a85918d4",
   "metadata": {},
   "outputs": [
    {
     "data": {
      "image/png": "[encoded data removed]",
      "text/plain": [
       "<Figure size 218.106x117.056 with 1 Axes>"
      ]
     },
     "execution_count": 19,
     "metadata": {},
     "output_type": "execute_result"
    }
   ],
   "source": [
    "# Top part\n",
    "qc_h.draw(output=\"mpl\", style=\"iqp\")"
   ]
  },
  {
   "cell_type": "code",
   "execution_count": 20,
   "id": "7e3c9359",
   "metadata": {},
   "outputs": [
    {
     "data": {
      "image/png": "[encoded data removed]",
      "text/plain": [
       "<Figure size 218.308x117.056 with 1 Axes>"
      ]
     },
     "execution_count": 20,
     "metadata": {},
     "output_type": "execute_result"
    }
   ],
   "source": [
    "# Bottom part\n",
    "qc_x.draw(output=\"mpl\", style=\"iqp\")"
   ]
  },
  {
   "cell_type": "markdown",
   "id": "5d172621",
   "metadata": {},
   "source": [
    "This is equivalent to this circuit from before."
   ]
  },
  {
   "cell_type": "code",
   "execution_count": 21,
   "id": "ae660199",
   "metadata": {},
   "outputs": [
    {
     "data": {
      "image/png": "[encoded data removed]",
      "text/plain": [
       "<Figure size 203.683x200.667 with 1 Axes>"
      ]
     },
     "execution_count": 21,
     "metadata": {},
     "output_type": "execute_result"
    }
   ],
   "source": [
    "qc_xh.draw(output=\"mpl\", style=\"iqp\")"
   ]
  },
  {
   "cell_type": "code",
   "execution_count": 22,
   "id": "add318ef",
   "metadata": {},
   "outputs": [
    {
     "data": {
      "text/plain": [
       "False"
      ]
     },
     "execution_count": 22,
     "metadata": {},
     "output_type": "execute_result"
    }
   ],
   "source": [
    "# Checking that the tensor product of the circuits gives the original multi-qubit circuit\n",
    "np.allclose(X.tensor(H), Operator(qc))"
   ]
  },
  {
   "cell_type": "markdown",
   "id": "325641f0",
   "metadata": {},
   "source": [
    "### Constructing the Bell State: An Entangled State\n",
    "\n",
    "Recall the Bell state\n",
    "\n",
    "$$\n",
    "\\frac{1}{\\sqrt{2}}|00\\rangle + \\frac{1}{\\sqrt{2}}|11\\rangle\n",
    "$$\n",
    "\n",
    "was an entangled state. We can use a multi-qubit circuit to construct the Bell state, and thus, entangle two qubits."
   ]
  },
  {
   "cell_type": "code",
   "execution_count": 23,
   "id": "5b1c4115",
   "metadata": {},
   "outputs": [
    {
     "data": {
      "image/png": "[encoded data removed]",
      "text/plain": [
       "<Figure size 287.294x200.667 with 1 Axes>"
      ]
     },
     "execution_count": 23,
     "metadata": {},
     "output_type": "execute_result"
    }
   ],
   "source": [
    "qc_bell = QuantumCircuit(2)\n",
    "qc_bell.h(0)\n",
    "qc_bell.cx(0, 1)\n",
    "qc_bell.draw(output=\"mpl\", style=\"iqp\")"
   ]
  },
  {
   "cell_type": "code",
   "execution_count": 24,
   "id": "5e5346fe",
   "metadata": {},
   "outputs": [
    {
     "data": {
      "text/latex": [
       "$$\\frac{\\sqrt{2}}{2} |00\\rangle+\\frac{\\sqrt{2}}{2} |11\\rangle$$"
      ],
      "text/plain": [
       "<IPython.core.display.Latex object>"
      ]
     },
     "execution_count": 24,
     "metadata": {},
     "output_type": "execute_result"
    }
   ],
   "source": [
    "(zero ^ zero).evolve(Operator(qc_bell)).draw(\"latex\")"
   ]
  },
  {
   "cell_type": "markdown",
   "id": "c7a3f8dc",
   "metadata": {},
   "source": [
    "## Summary\n",
    "\n",
    "1. We introduced multi-qubit gates, including the CNOT gate.\n",
    "2. We saw that a multi-qubit circuits can be used to entangle qubits."
   ]
  },
  {
   "cell_type": "code",
   "execution_count": null,
   "id": "67d0acf9",
   "metadata": {},
   "outputs": [],
   "source": []
  }
 ],
 "metadata": {
  "kernelspec": {
   "display_name": "Python 3 (ipykernel)",
   "language": "python",
   "name": "python3"
  },
  "language_info": {
   "codemirror_mode": {
    "name": "ipython",
    "version": 3
   },
   "file_extension": ".py",
   "mimetype": "text/x-python",
   "name": "python",
   "nbconvert_exporter": "python",
   "pygments_lexer": "ipython3",
   "version": "3.11.5"
  }
 },
 "nbformat": 4,
 "nbformat_minor": 5
}

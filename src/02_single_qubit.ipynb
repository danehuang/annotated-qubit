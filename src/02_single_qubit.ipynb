{
 "cells": [
  {
   "cell_type": "code",
   "execution_count": 1,
   "id": "78c95991",
   "metadata": {},
   "outputs": [],
   "source": [
    "import numpy as np\n",
    "from typing import *\n",
    "\n",
    "from qiskit import QuantumCircuit\n",
    "from qiskit_aer import AerSimulator\n",
    "from qiskit.visualization import plot_histogram    \n",
    "from qiskit.quantum_info import Statevector"
   ]
  },
  {
   "cell_type": "markdown",
   "id": "8dfcad89",
   "metadata": {},
   "source": [
    "# Foundations: A Single Qubit System\n",
    "\n",
    "We'll introduce a single **qubit** system which encodes quantum information.\n",
    "A qubit is defined in terms of complex numbers.\n",
    "We'll also introduce the ideas of **superposition** and **measurement**.\n",
    "\n",
    "References\n",
    "1. [Introduction to Classical and Quantum Computing: Chapter 2](https://www.thomaswong.net/introduction-to-classical-and-quantum-computing-1e4p.pdf)"
   ]
  },
  {
   "cell_type": "markdown",
   "id": "18c3bf42",
   "metadata": {},
   "source": [
    "## A Qubit\n",
    "\n",
    "A **qubit** $|q\\rangle$ is as a complex-valued vector satisfying a normalization constraint. Define the set\n",
    "\n",
    "$$\n",
    "Q(1) := \\{ \\begin{pmatrix} a \\\\ b \\end{pmatrix} \\in \\mathbb{C}^2, \\sqrt{a\\bar{a} + b\\bar{b}} = 1 \\} \\,.\n",
    "$$\n",
    "\n",
    "Then a qubit $|q\\rangle \\in Q(1)$. The notation $|q\\rangle$ indicates a **ket** from **bra-ket** notation (also known as **Dirac** notation). A **bra** is the conjugate transpose of a ket:\n",
    "\n",
    "$$\n",
    "\\langle q | := |q\\rangle^{\\dagger} \\,.\n",
    "$$"
   ]
  },
  {
   "cell_type": "code",
   "execution_count": 2,
   "id": "1ae97f7b",
   "metadata": {},
   "outputs": [],
   "source": [
    "def qubit_condition(q: Union[np.array, Statevector]) -> np.array:\n",
    "    return q[0]*np.conjugate(q[0]) + q[1]*np.conjugate(q[1])\n",
    "\n",
    "def is_qubit(q: Union[np.array, Statevector]) -> bool:\n",
    "    return np.allclose(np.array([1.]), qubit_condition(q))"
   ]
  },
  {
   "cell_type": "code",
   "execution_count": 3,
   "id": "cc37b9e2",
   "metadata": {},
   "outputs": [
    {
     "name": "stdout",
     "output_type": "stream",
     "text": [
      "Is [0.5+0.j  0. +0.5j] a qubit: False\n",
      "Is [0.70710678 0.70710678] a qubit: True\n"
     ]
    }
   ],
   "source": [
    "maybe_q1 = np.array([.5, .5j])\n",
    "print(f\"Is {maybe_q1} a qubit: {is_qubit(maybe_q1)}\")\n",
    "\n",
    "maybe_q2 = np.array([1/np.sqrt(2), 1/np.sqrt(2)])\n",
    "print(f\"Is {maybe_q2} a qubit: {is_qubit(maybe_q2)}\")"
   ]
  },
  {
   "cell_type": "markdown",
   "id": "acb86dde",
   "metadata": {},
   "source": [
    "### Qubits and Quantum Information\n",
    "\n",
    "Classically, a bit is a **unit** of information that can be used to quantify the amount of classical information needed to describe the classical state of a classical system. A classical system is any physical system that is governed by the laws of classical physics such as our familiar digital computers. Similarly, a qubit is a unit of quantum information that can be used to quantify the amount of quantum information needed to describe the quantum state of a quantum system.\n",
    "1. A **quantum system** is a physical system that is governed by the laws of quantum mechanics.\n",
    "2. A **quantum state** is a mathematical description of the state of a quantum state. Thus the quantum state of a single qubit system can be fully described by $|q\\rangle \\in Q(1)$."
   ]
  },
  {
   "cell_type": "markdown",
   "id": "8670e9bf",
   "metadata": {},
   "source": [
    "### Qubits as Quantum Bits\n",
    "\n",
    "1. The qubit\n",
    "\n",
    "$$\n",
    "|0\\rangle := \\begin{pmatrix}\n",
    "1 \\\\\n",
    "0 \\\\\n",
    "\\end{pmatrix}\n",
    "$$\n",
    "\n",
    "is the quantum analogue of a zero bit.\n",
    "\n",
    "2. The qubit \n",
    "\n",
    "$$\n",
    "|1\\rangle := \\begin{pmatrix}\n",
    "0 \\\\\n",
    "1 \\\\\n",
    "\\end{pmatrix}\n",
    "$$\n",
    "\n",
    "is the quantum analogue of a one bit."
   ]
  },
  {
   "cell_type": "code",
   "execution_count": 4,
   "id": "82a68d62",
   "metadata": {},
   "outputs": [
    {
     "name": "stdout",
     "output_type": "stream",
     "text": [
      "Is Statevector([1.+0.j, 0.+0.j],\n",
      "            dims=(2,)) a qubit: True\n"
     ]
    },
    {
     "data": {
      "text/latex": [
       "$$ |0\\rangle$$"
      ],
      "text/plain": [
       "<IPython.core.display.Latex object>"
      ]
     },
     "execution_count": 4,
     "metadata": {},
     "output_type": "execute_result"
    }
   ],
   "source": [
    "zero = Statevector(np.array([1.0 + 0j, 0j]))  # 0 qubit\n",
    "print(f\"Is {zero} a qubit: {is_qubit(zero)}\")\n",
    "zero.draw(\"latex\")"
   ]
  },
  {
   "cell_type": "code",
   "execution_count": 5,
   "id": "2e6f4802",
   "metadata": {},
   "outputs": [
    {
     "name": "stdout",
     "output_type": "stream",
     "text": [
      "Is Statevector([0.+0.j, 1.+0.j],\n",
      "            dims=(2,)) a qubit: True\n"
     ]
    },
    {
     "data": {
      "text/latex": [
       "$$ |1\\rangle$$"
      ],
      "text/plain": [
       "<IPython.core.display.Latex object>"
      ]
     },
     "execution_count": 5,
     "metadata": {},
     "output_type": "execute_result"
    }
   ],
   "source": [
    "one = Statevector(np.array([0j, 1.0 + 0j]))   # 1 qubit\n",
    "print(f\"Is {one} a qubit: {is_qubit(one)}\")\n",
    "one.draw(\"latex\")"
   ]
  },
  {
   "cell_type": "markdown",
   "id": "af4f6499",
   "metadata": {},
   "source": [
    "## Non-Classical Behavior\n",
    "\n",
    "A qubit behaves differently than a classical bit. Put another way, a unit of quantum information encodes different information compared to a unit of classical information. We'll see two of these:\n",
    "1. **superposition** and\n",
    "2. **measurement**."
   ]
  },
  {
   "cell_type": "markdown",
   "id": "258d9726",
   "metadata": {},
   "source": [
    "### Quantum Behavior: Superposition\n",
    "\n",
    "Unlike a bit that can only take on the value of zero or one, a qubit can take on more than just two states. Here's an example."
   ]
  },
  {
   "cell_type": "code",
   "execution_count": 6,
   "id": "83560db5",
   "metadata": {},
   "outputs": [
    {
     "name": "stdout",
     "output_type": "stream",
     "text": [
      "Is Statevector([0.70710678+0.j, 0.70710678+0.j],\n",
      "            dims=(2,)) a qubit: True\n"
     ]
    },
    {
     "data": {
      "text/latex": [
       "$$\\frac{\\sqrt{2}}{2} |0\\rangle+\\frac{\\sqrt{2}}{2} |1\\rangle$$"
      ],
      "text/plain": [
       "<IPython.core.display.Latex object>"
      ]
     },
     "execution_count": 6,
     "metadata": {},
     "output_type": "execute_result"
    }
   ],
   "source": [
    "q = Statevector(np.array([1/np.sqrt(2), 1/np.sqrt(2)]))\n",
    "print(f\"Is {q} a qubit: {is_qubit(q)}\")\n",
    "q.draw(\"latex\")"
   ]
  },
  {
   "cell_type": "markdown",
   "id": "ff4778e5",
   "metadata": {},
   "source": [
    "#### Fact: Qubit Decomposition\n",
    "\n",
    "Every qubit $|q\\rangle$ can be written as\n",
    "\n",
    "$$\n",
    "|q\\rangle = \\alpha|0\\rangle + \\beta |1\\rangle\n",
    "$$\n",
    "\n",
    "where $\\alpha, \\beta \\in \\mathbb{C}$ and $|\\alpha|^2 + |\\beta|^2 = 1$. We'll see later how we can use the language of linear algebra to describe a qubit in a succinct matter."
   ]
  },
  {
   "cell_type": "code",
   "execution_count": 7,
   "id": "73216743",
   "metadata": {},
   "outputs": [
    {
     "name": "stdout",
     "output_type": "stream",
     "text": [
      "Is Statevector([0.70710678+0.j, 0.70710678+0.j],\n",
      "            dims=(2,)) a qubit: True\n"
     ]
    },
    {
     "data": {
      "text/latex": [
       "$$\\frac{\\sqrt{2}}{2} |0\\rangle+\\frac{\\sqrt{2}}{2} |1\\rangle$$"
      ],
      "text/plain": [
       "<IPython.core.display.Latex object>"
      ]
     },
     "execution_count": 7,
     "metadata": {},
     "output_type": "execute_result"
    }
   ],
   "source": [
    "q_p = 1/np.sqrt(2)*zero + 1/np.sqrt(2)*one\n",
    "print(f\"Is {q_p} a qubit: {is_qubit(q_p)}\")\n",
    "q_p.draw(\"latex\")"
   ]
  },
  {
   "cell_type": "code",
   "execution_count": 8,
   "id": "06892506",
   "metadata": {},
   "outputs": [
    {
     "name": "stdout",
     "output_type": "stream",
     "text": [
      "Is Statevector([0.57735027+0.j, 0.81649658+0.j],\n",
      "            dims=(2,)) a qubit: True\n"
     ]
    },
    {
     "data": {
      "text/latex": [
       "$$\\frac{\\sqrt{3}}{3} |0\\rangle+\\frac{\\sqrt{6}}{3} |1\\rangle$$"
      ],
      "text/plain": [
       "<IPython.core.display.Latex object>"
      ]
     },
     "execution_count": 8,
     "metadata": {},
     "output_type": "execute_result"
    }
   ],
   "source": [
    "q2 = np.sqrt(1/3)*zero + np.sqrt(2/3)*one\n",
    "print(f\"Is {q2} a qubit: {is_qubit(q2)}\")\n",
    "q2.draw(\"latex\")"
   ]
  },
  {
   "cell_type": "code",
   "execution_count": 9,
   "id": "c5d63d9e",
   "metadata": {},
   "outputs": [
    {
     "name": "stdout",
     "output_type": "stream",
     "text": [
      "Is Statevector([0.40824829-0.40824829j, 0.57735027+0.57735027j],\n",
      "            dims=(2,)) a qubit: True\n"
     ]
    },
    {
     "data": {
      "text/latex": [
       "$$(\\frac{\\sqrt{6}}{6} - \\frac{\\sqrt{6} i}{6}) |0\\rangle+(\\frac{\\sqrt{3}}{3} + \\frac{\\sqrt{3} i}{3}) |1\\rangle$$"
      ],
      "text/plain": [
       "<IPython.core.display.Latex object>"
      ]
     },
     "execution_count": 9,
     "metadata": {},
     "output_type": "execute_result"
    }
   ],
   "source": [
    "q3 = np.sqrt(-1/3*1j)*zero + np.sqrt(2/3*1j)*one\n",
    "print(f\"Is {q3} a qubit: {is_qubit(q3)}\")\n",
    "q3.draw(\"latex\")"
   ]
  },
  {
   "cell_type": "markdown",
   "id": "40de09d6",
   "metadata": {},
   "source": [
    "#### Superposition\n",
    "\n",
    "1. The qubits above are not a zero or a one.\n",
    "2. Instead, they are said to be in a **superposition** of zero and one.\n",
    "3. In this way, we can say that a qubit carries different information from a single classical bit."
   ]
  },
  {
   "cell_type": "markdown",
   "id": "11cd0fd3",
   "metadata": {},
   "source": [
    "### Quantum Behavior: Measurement\n",
    "\n",
    "1. Measurement is an operation that destroys superposition and stochastically returns either $|0\\rangle$ or $|1\\rangle$.\n",
    "2. In other words, it is an operation that converts quantum information into classical information."
   ]
  },
  {
   "cell_type": "markdown",
   "id": "8a68c407",
   "metadata": {},
   "source": [
    "#### Born Rule\n",
    "\n",
    "The probability of obtaining $|0\\rangle$ or $|1\\rangle$ is given by **Born's rule**, which states that we obtain\n",
    "  - $|0\\rangle$ with probability $|\\alpha|^2$ and\n",
    "  - $|1\\rangle$ with probability $|\\beta|^2$.\n",
    "\n",
    "This is why we require that a qubit satisfies the normalization criterion: $|\\alpha\\rangle^2 + |\\beta\\rangle^2 = 1$."
   ]
  },
  {
   "cell_type": "code",
   "execution_count": 10,
   "id": "def0f065",
   "metadata": {},
   "outputs": [
    {
     "name": "stdout",
     "output_type": "stream",
     "text": [
      "Probabilities: {'0': 0.4999999999999999, '1': 0.4999999999999999}\n"
     ]
    },
    {
     "data": {
      "text/latex": [
       "$$\\frac{\\sqrt{2}}{2} |0\\rangle+\\frac{\\sqrt{2}}{2} |1\\rangle$$"
      ],
      "text/plain": [
       "<IPython.core.display.Latex object>"
      ]
     },
     "execution_count": 10,
     "metadata": {},
     "output_type": "execute_result"
    }
   ],
   "source": [
    "print(\"Probabilities:\", q.probabilities_dict())\n",
    "q.draw(\"latex\")"
   ]
  },
  {
   "cell_type": "code",
   "execution_count": 11,
   "id": "e34e5e11",
   "metadata": {},
   "outputs": [
    {
     "name": "stdout",
     "output_type": "stream",
     "text": [
      "Probabilities: {'0': 0.3333333333333333, '1': 0.6666666666666666}\n"
     ]
    },
    {
     "data": {
      "text/latex": [
       "$$\\frac{\\sqrt{3}}{3} |0\\rangle+\\frac{\\sqrt{6}}{3} |1\\rangle$$"
      ],
      "text/plain": [
       "<IPython.core.display.Latex object>"
      ]
     },
     "execution_count": 11,
     "metadata": {},
     "output_type": "execute_result"
    }
   ],
   "source": [
    "print(\"Probabilities:\", q2.probabilities_dict())\n",
    "q2.draw(\"latex\")"
   ]
  },
  {
   "cell_type": "code",
   "execution_count": 12,
   "id": "486f16f4",
   "metadata": {},
   "outputs": [
    {
     "name": "stdout",
     "output_type": "stream",
     "text": [
      "Quantum state Statevector([0.40824829-0.40824829j, 0.57735027+0.57735027j],\n",
      "            dims=(2,))\n",
      "Probabilities: {'0': 0.3333333333333333, '1': 0.6666666666666666}\n"
     ]
    },
    {
     "data": {
      "text/latex": [
       "$$(\\frac{\\sqrt{6}}{6} - \\frac{\\sqrt{6} i}{6}) |0\\rangle+(\\frac{\\sqrt{3}}{3} + \\frac{\\sqrt{3} i}{3}) |1\\rangle$$"
      ],
      "text/plain": [
       "<IPython.core.display.Latex object>"
      ]
     },
     "execution_count": 12,
     "metadata": {},
     "output_type": "execute_result"
    }
   ],
   "source": [
    "print(\"Quantum state\", q3)\n",
    "print(\"Probabilities:\", q3.probabilities_dict())\n",
    "q3.draw(\"latex\")"
   ]
  },
  {
   "cell_type": "markdown",
   "id": "e06dde82",
   "metadata": {},
   "source": [
    "#### Measurement and Histograms\n",
    "\n",
    "We can use histograms to aggregate the results of measurement."
   ]
  },
  {
   "cell_type": "code",
   "execution_count": 13,
   "id": "3b620a41",
   "metadata": {},
   "outputs": [],
   "source": [
    "def demonstrate_measure(q):\n",
    "    sim = AerSimulator()\n",
    "    \n",
    "    # Don't worry about this code for now\n",
    "    qc = QuantumCircuit(1, 1)\n",
    "    qc.initialize(q, 0)        \n",
    "    qc.measure(0, 0)\n",
    "    \n",
    "    results = sim.run(qc, shots=10).result()\n",
    "    answer = results.get_counts()\n",
    "    return plot_histogram(answer)"
   ]
  },
  {
   "cell_type": "code",
   "execution_count": 14,
   "id": "54898686",
   "metadata": {},
   "outputs": [
    {
     "name": "stdout",
     "output_type": "stream",
     "text": [
      "Statevector([0.70710678+0.j, 0.70710678+0.j],\n",
      "            dims=(2,))\n"
     ]
    },
    {
     "data": {
      "image/png": "[encoded data removed]",
      "text/plain": [
       "<Figure size 700x500 with 1 Axes>"
      ]
     },
     "execution_count": 14,
     "metadata": {},
     "output_type": "execute_result"
    }
   ],
   "source": [
    "print(q)\n",
    "demonstrate_measure(q)"
   ]
  },
  {
   "cell_type": "code",
   "execution_count": 15,
   "id": "f4d4694a",
   "metadata": {},
   "outputs": [
    {
     "name": "stdout",
     "output_type": "stream",
     "text": [
      "Statevector([0.57735027+0.j, 0.81649658+0.j],\n",
      "            dims=(2,))\n"
     ]
    },
    {
     "data": {
      "image/png": "[encoded data removed]",
      "text/plain": [
       "<Figure size 700x500 with 1 Axes>"
      ]
     },
     "execution_count": 15,
     "metadata": {},
     "output_type": "execute_result"
    }
   ],
   "source": [
    "print(q2)\n",
    "demonstrate_measure(q2)"
   ]
  },
  {
   "cell_type": "code",
   "execution_count": 16,
   "id": "2ba6b331",
   "metadata": {},
   "outputs": [
    {
     "name": "stdout",
     "output_type": "stream",
     "text": [
      "Statevector([0.40824829-0.40824829j, 0.57735027+0.57735027j],\n",
      "            dims=(2,))\n"
     ]
    },
    {
     "data": {
      "image/png": "[encoded data removed]",
      "text/plain": [
       "<Figure size 700x500 with 1 Axes>"
      ]
     },
     "execution_count": 16,
     "metadata": {},
     "output_type": "execute_result"
    }
   ],
   "source": [
    "print(q3)\n",
    "demonstrate_measure(q3)"
   ]
  },
  {
   "cell_type": "markdown",
   "id": "e0ae4aa5",
   "metadata": {},
   "source": [
    "## Summary\n",
    "\n",
    "1. We looked at single-qubit systems. Qubits are the classical analogue of bits.\n",
    "2. Unlike a classical bit, a qubit can be in a superposition of states.\n",
    "3. To observe the state of a qubit, we must measure it, which stochastically produces a classical result.\n",
    "4. Next time we'll look at operations on a single qubit."
   ]
  }
 ],
 "metadata": {
  "kernelspec": {
   "display_name": "Python 3 (ipykernel)",
   "language": "python",
   "name": "python3"
  },
  "language_info": {
   "codemirror_mode": {
    "name": "ipython",
    "version": 3
   },
   "file_extension": ".py",
   "mimetype": "text/x-python",
   "name": "python",
   "nbconvert_exporter": "python",
   "pygments_lexer": "ipython3",
   "version": "3.11.5"
  }
 },
 "nbformat": 4,
 "nbformat_minor": 5
}

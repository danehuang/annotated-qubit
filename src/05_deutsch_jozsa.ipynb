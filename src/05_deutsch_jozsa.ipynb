{
 "cells": [
  {
   "cell_type": "code",
   "execution_count": 1,
   "id": "11739863",
   "metadata": {},
   "outputs": [],
   "source": [
    "from typing import *\n",
    "import numpy as np\n",
    "import matplotlib.pyplot as plt\n",
    "import time\n",
    "\n",
    "from qiskit_aer import AerSimulator\n",
    "import qiskit.quantum_info as qi\n",
    "from qiskit.quantum_info import Statevector, Operator\n",
    "from qiskit.visualization import plot_histogram\n",
    "from qiskit import QuantumCircuit\n",
    "sim = AerSimulator()\n",
    "\n",
    "from util import zero, one"
   ]
  },
  {
   "cell_type": "markdown",
   "id": "ac66626a",
   "metadata": {},
   "source": [
    "# QC: Deutsch-Jozsa Algorithm\n",
    "\n",
    "In this notebook, we'll cover the **Deutsch-Jozsa** algorithm, the first quantum algorithm to demonstrate exponential speedup compared to deterministic classical algorithm. There are known probabilistic algorithms that efficiently solve the Deutsch-Jozsa problem.\n",
    "\n",
    "References\n",
    "1. [Introduction to Classical and Quantum Computing: Chapter 7](https://www.thomaswong.net/introduction-to-classical-and-quantum-computing-1e4p.pdf)\n",
    "2. [Qiskit notebook on Deutsch-Jozsa](https://github.com/Qiskit/textbook/blob/main/notebooks/ch-algorithms/deutsch-jozsa.ipynb)"
   ]
  },
  {
   "cell_type": "markdown",
   "id": "32ab9a10",
   "metadata": {},
   "source": [
    "## Problem Formulation\n",
    "\n",
    "The Deutsch-Jozsa algorithm solves the problem of determining whether a function is **balanced** or not. This is a somewhat contrived problem whose main utility is in showing that it is possible for a quantum algorithm to achieve exponential speedup compared to a classical algorithm."
   ]
  },
  {
   "cell_type": "markdown",
   "id": "8cf33b18",
   "metadata": {},
   "source": [
    "### Balanced Function\n",
    "\n",
    "A function $f : \\{0, 1\\}^n \\rightarrow \\{0, 1\\}$ is **balanced** if it produces the same number of 0 outputs and 1 outputs."
   ]
  },
  {
   "cell_type": "code",
   "execution_count": 2,
   "id": "8f47f656",
   "metadata": {},
   "outputs": [],
   "source": [
    "def _xor(x: list[bool]) -> bool:\n",
    "    return (not x[0] and x[1]) or (x[0] and not x[1])"
   ]
  },
  {
   "cell_type": "code",
   "execution_count": 3,
   "id": "4ac6294d",
   "metadata": {},
   "outputs": [
    {
     "name": "stdout",
     "output_type": "stream",
     "text": [
      "False\n",
      "True\n",
      "True\n",
      "False\n"
     ]
    }
   ],
   "source": [
    "# Balanced\n",
    "print(_xor([False, False]))\n",
    "print(_xor([False, True]))\n",
    "print(_xor([True, False])) \n",
    "print(_xor([True, True]))"
   ]
  },
  {
   "cell_type": "code",
   "execution_count": 4,
   "id": "ad9234e9",
   "metadata": {},
   "outputs": [],
   "source": [
    "def _and(x: list[int]) -> int:\n",
    "    return x[0] and x[1]"
   ]
  },
  {
   "cell_type": "code",
   "execution_count": 5,
   "id": "7a7e06ed",
   "metadata": {},
   "outputs": [
    {
     "name": "stdout",
     "output_type": "stream",
     "text": [
      "False\n",
      "False\n",
      "False\n",
      "True\n"
     ]
    }
   ],
   "source": [
    "# Not Balanced\n",
    "print(_and([False, False]))\n",
    "print(_and([False, True]))\n",
    "print(_and([True, False])) \n",
    "print(_and([True, True]))"
   ]
  },
  {
   "cell_type": "code",
   "execution_count": 6,
   "id": "078329b0",
   "metadata": {},
   "outputs": [],
   "source": [
    "def _f(x: list[int]) -> int:\n",
    "    return (x[0] and x[1]) or (x[1] and x[2]) or (not x[0] and not x[1] and not x[2])"
   ]
  },
  {
   "cell_type": "code",
   "execution_count": 7,
   "id": "0fdb3f1b",
   "metadata": {},
   "outputs": [
    {
     "name": "stdout",
     "output_type": "stream",
     "text": [
      "True\n",
      "False\n",
      "False\n",
      "True\n",
      "False\n",
      "True\n",
      "False\n",
      "True\n"
     ]
    }
   ],
   "source": [
    "# Balanced\n",
    "print(_f([False, False, False]))\n",
    "print(_f([False, True, False]))\n",
    "print(_f([False, False, True]))\n",
    "print(_f([False, True, True]))\n",
    "print(_f([True, False, False]))\n",
    "print(_f([True, True, False]))\n",
    "print(_f([True, False, True]))\n",
    "print(_f([True, True, True]))"
   ]
  },
  {
   "cell_type": "markdown",
   "id": "c7eabb48",
   "metadata": {},
   "source": [
    "### Deutsch-Jozsa Problem Formulation\n",
    "\n",
    "The Deutsch-Jozsa problem is: given a Boolean function $f : \\{0, 1\\}^n \\rightarrow \\{0, 1\\}$ thatis either\n",
    "1. a constant function (i.e., always 0 or 1) or\n",
    "2. a balanced function,\n",
    "\n",
    "determine whether it is a constant function or balanced function."
   ]
  },
  {
   "cell_type": "markdown",
   "id": "e8cb8dba",
   "metadata": {},
   "source": [
    "## Classical Solution\n",
    "\n",
    "Intuitively, the simplest thing we can do is to check every input and see if we get a constant or balanced function."
   ]
  },
  {
   "cell_type": "markdown",
   "id": "7fdeaa1a",
   "metadata": {},
   "source": [
    "### Step 1: Enumerate all bit strings up to a certain length"
   ]
  },
  {
   "cell_type": "code",
   "execution_count": 8,
   "id": "e9f3e4f9",
   "metadata": {},
   "outputs": [],
   "source": [
    "def enum_bits(n):\n",
    "    if n == 1:\n",
    "        return [[False], [True]]\n",
    "    else:\n",
    "        acc = []\n",
    "        for x in enum_bits(n-1):\n",
    "            acc += [[False] + x]\n",
    "            acc += [[True] + x]\n",
    "        return acc"
   ]
  },
  {
   "cell_type": "code",
   "execution_count": 9,
   "id": "169a0ab7",
   "metadata": {},
   "outputs": [
    {
     "data": {
      "text/plain": [
       "[[False, False], [True, False], [False, True], [True, True]]"
      ]
     },
     "execution_count": 9,
     "metadata": {},
     "output_type": "execute_result"
    }
   ],
   "source": [
    "enum_bits(2)"
   ]
  },
  {
   "cell_type": "code",
   "execution_count": 10,
   "id": "2120b4a3",
   "metadata": {},
   "outputs": [
    {
     "data": {
      "text/plain": [
       "[[False, False, False],\n",
       " [True, False, False],\n",
       " [False, True, False],\n",
       " [True, True, False],\n",
       " [False, False, True],\n",
       " [True, False, True],\n",
       " [False, True, True],\n",
       " [True, True, True]]"
      ]
     },
     "execution_count": 10,
     "metadata": {},
     "output_type": "execute_result"
    }
   ],
   "source": [
    "enum_bits(3)"
   ]
  },
  {
   "cell_type": "markdown",
   "id": "34f88671",
   "metadata": {},
   "source": [
    "### Step 2: Test constant or balanced"
   ]
  },
  {
   "cell_type": "code",
   "execution_count": 11,
   "id": "db1aa4eb",
   "metadata": {},
   "outputs": [],
   "source": [
    "def solve_deutsch_jozsa(nbits: int, f: Callable[list[bool], bool]) -> str:\n",
    "    # Count\n",
    "    true_count = 0; false_count = 0\n",
    "    for b in enum_bits(nbits):\n",
    "        if f(b):\n",
    "            true_count += 1\n",
    "        else:\n",
    "            false_count += 1\n",
    "    if true_count == 0 or false_count == 0:\n",
    "        return \"constant\"\n",
    "    elif true_count == false_count:\n",
    "        return \"balanced\"\n",
    "    else:\n",
    "        raise ValueError(\"f is not constant or balanced.\")"
   ]
  },
  {
   "cell_type": "code",
   "execution_count": 12,
   "id": "846a15fc",
   "metadata": {},
   "outputs": [
    {
     "data": {
      "text/plain": [
       "'balanced'"
      ]
     },
     "execution_count": 12,
     "metadata": {},
     "output_type": "execute_result"
    }
   ],
   "source": [
    "solve_deutsch_jozsa(2, _xor)"
   ]
  },
  {
   "cell_type": "code",
   "execution_count": 13,
   "id": "c2cff5db",
   "metadata": {},
   "outputs": [
    {
     "name": "stdout",
     "output_type": "stream",
     "text": [
      "f is not constant or balanced.\n"
     ]
    }
   ],
   "source": [
    "try:\n",
    "    solve_deutsch_jozsa(2, _and)\n",
    "except Exception as e:\n",
    "    print(e)"
   ]
  },
  {
   "cell_type": "code",
   "execution_count": 14,
   "id": "9a2f6f0d",
   "metadata": {},
   "outputs": [
    {
     "data": {
      "text/plain": [
       "'balanced'"
      ]
     },
     "execution_count": 14,
     "metadata": {},
     "output_type": "execute_result"
    }
   ],
   "source": [
    "solve_deutsch_jozsa(3, _f)"
   ]
  },
  {
   "cell_type": "markdown",
   "id": "69b70a9e",
   "metadata": {},
   "source": [
    "### Analysis\n",
    "\n",
    "This algorithm has exponential complexity."
   ]
  },
  {
   "cell_type": "code",
   "execution_count": 15,
   "id": "9e9ad86f",
   "metadata": {},
   "outputs": [
    {
     "data": {
      "text/plain": [
       "Text(0.5, 1.0, 'Running Time of Classical Algorithm')"
      ]
     },
     "execution_count": 15,
     "metadata": {},
     "output_type": "execute_result"
    },
    {
     "data": {
      "image/png": "[encoded data removed]",
      "text/plain": [
       "<Figure size 640x480 with 1 Axes>"
      ]
     },
     "metadata": {},
     "output_type": "display_data"
    }
   ],
   "source": [
    "ns = range(4, 20)\n",
    "times = []\n",
    "for n in ns:\n",
    "    start = time.time()\n",
    "    solve_deutsch_jozsa(n, _f)\n",
    "    times += [time.time() - start]\n",
    "plt.plot(ns, times)\n",
    "plt.xlabel('Number of bits'); plt.ylabel('Time (sec)'); plt.title('Running Time of Classical Algorithm')"
   ]
  },
  {
   "cell_type": "markdown",
   "id": "5ab93130",
   "metadata": {},
   "source": [
    "### Aside: Probabilistic Solution to Deutsch-Jozsa Problem\n",
    "\n",
    "1. What if we allowed for some error?\n",
    "2. Naively, we could just sample random inputs and test if all the outputs are the same.\n",
    "3. Intuitively, since we are gauranteed either a constant or balanced function, the probability that we have a constant function is high if all the outputs are the same."
   ]
  },
  {
   "cell_type": "code",
   "execution_count": 16,
   "id": "9f21a568",
   "metadata": {},
   "outputs": [],
   "source": [
    "import random\n",
    "def psolve_deutsch_jozsa(nbits: int, f: Callable[list[bool], bool], samples) -> str:\n",
    "    def randbits(nbits):\n",
    "        # Generate random bits of length nbits\n",
    "        return [random.choice([False, True]) for x in range(nbits)]\n",
    "    # Count\n",
    "    true_count = 0; false_count = 0\n",
    "    for b in [randbits(nbits) for i in range(samples)]: \n",
    "        if f(b):\n",
    "            true_count += 1\n",
    "        else:\n",
    "            false_count += 1\n",
    "    if true_count == samples or false_count == samples:\n",
    "        # If\n",
    "        return \"constant\"\n",
    "    else:\n",
    "        # We are guaranteed that f is constant or balanced\n",
    "        return \"balanced\"\n",
    "    # no error case"
   ]
  },
  {
   "cell_type": "code",
   "execution_count": 17,
   "id": "4b2d9bd4",
   "metadata": {},
   "outputs": [
    {
     "data": {
      "text/plain": [
       "(array([883.,   0.,   0.,   0.,   0.,   0.,   0.,   0.,   0., 117.]),\n",
       " array([0. , 0.1, 0.2, 0.3, 0.4, 0.5, 0.6, 0.7, 0.8, 0.9, 1. ]),\n",
       " <BarContainer object of 10 artists>)"
      ]
     },
     "execution_count": 17,
     "metadata": {},
     "output_type": "execute_result"
    },
    {
     "data": {
      "image/png": "[encoded data removed]",
      "text/plain": [
       "<Figure size 640x480 with 1 Axes>"
      ]
     },
     "metadata": {},
     "output_type": "display_data"
    }
   ],
   "source": [
    "# Testing the performance\n",
    "acc = []\n",
    "for i in range(1000):\n",
    "    acc += [psolve_deutsch_jozsa(3, _f, 4)]\n",
    "plt.hist(acc)"
   ]
  },
  {
   "cell_type": "markdown",
   "id": "979bc80e",
   "metadata": {},
   "source": [
    "#### Wow, that worked pretty well!\n",
    "\n",
    "As a function of samples $K$, what can we say about the probability of error?\n",
    "1. What's the probability that we say constant given that it's constant?\n",
    "\n",
    "$$\n",
    "P(\\text{constant} | \\text{constant}) = P(\\text{all same} | \\text{constant}) = 1\n",
    "$$\n",
    "\n",
    "2. What's the probability that we say balanced given that it's constant?\n",
    "\n",
    "$$\n",
    "P(\\text{balanced} | \\text{constant}) = P(\\text{not all same} | \\text{constant}) = 0\n",
    "$$\n",
    "\n",
    "3. What's the probability that we say constant given that it's balanced?\n",
    "\n",
    "$$\n",
    "P(\\text{constant} | \\text{balanced}) = P(\\text{all same} | \\text{balanced}) = (1/2)^{K-1}\n",
    "$$\n",
    "\n",
    "4. What's the probability that we say balanced given that it's balanced?\n",
    "\n",
    "$$\n",
    "P(\\text{balanced} | \\text{balanced}) = P(\\text{not all same} | \\text{balanced}) = 1 - P(\\text{all same} | \\text{balanced}) = 1 - (1/2)^{K-1}\n",
    "$$\n",
    "\n",
    "Perhaps surprisingly, the probability of error is not related to $n$, the length of the bit-string!"
   ]
  },
  {
   "cell_type": "code",
   "execution_count": 18,
   "id": "f0b5d552",
   "metadata": {},
   "outputs": [
    {
     "name": "stdout",
     "output_type": "stream",
     "text": [
      "Probability of error 0.125\n",
      "Probability correct 0.875\n"
     ]
    }
   ],
   "source": [
    "print(\"Probability of error\", .5**(4-1))\n",
    "print(\"Probability correct\", 1 - .5**(4-1))\n",
    "# Note that the analysis matches our sampling"
   ]
  },
  {
   "cell_type": "markdown",
   "id": "efba8a5c",
   "metadata": {},
   "source": [
    "## Quantum Oracles\n",
    "\n",
    "In the classical setting, we could easily implement $f : \\{0, 1\\}^n \\rightarrow \\{0, 1\\}$ as either a constant function (i.e., always 0 or 1) or a balanced function. However, there are two constraints in the quantum setting:\n",
    "1. Assuming that we have a **quantum oracle** $U_f$ that mimics the behavior of $f$, how do we use it in a way that $U_f$ is reversible?\n",
    "2. The idea of an **oracle** is that we can assume that have access to some blackbox function without worrying about creating one. Nevertheless, we'll show some examples of oracles so that we can show that it's possible to encode classical function as oracle and to test our functions."
   ]
  },
  {
   "cell_type": "markdown",
   "id": "c8db23f3",
   "metadata": {},
   "source": [
    "### Issue 1: Reading from oracle\n",
    "\n",
    "1. Reading from an oracle needs to be reversible.\n",
    "2. This means that the construction of our oracle should look like (in little endian)\n",
    "\n",
    "$$\n",
    "U_f |y, x\\rangle = |z\\rangle\n",
    "$$\n",
    "\n",
    "where $x$ is the input, $y$ is some extra qubits, and $z$ has enough information to encode $x$, $y$, and $f(x)$."
   ]
  },
  {
   "cell_type": "markdown",
   "id": "ec05cabc",
   "metadata": {},
   "source": [
    "### Solution 1: Xor oracle\n",
    "\n",
    "Assume that the encoding of the input and output to the oracle is\n",
    "\n",
    "$$\n",
    "U_f |y, x\\rangle = |(y \\oplus f(x), x)\\rangle\n",
    "$$\n",
    "\n",
    "where $\\oplus$ is exclusive or.\n",
    "1. Clearly we can recover $|x\\rangle$ since we copy it from the input to the output.\n",
    "2. If $|y\\rangle = |0\\rangle$, then\n",
    "    - $f(x) = 0$ gives us $0$\n",
    "    - $f(x) = 1$ gives us $1$.\n",
    "3. When $|y\\rangle = |1\\rangle$, the answers are flipped."
   ]
  },
  {
   "cell_type": "markdown",
   "id": "ffab1b43",
   "metadata": {},
   "source": [
    "### Issue 2: Constructing oracles\n",
    "\n",
    "We'll illustrate for the constant and balanced oracles necessary for Deustch-Josza problem."
   ]
  },
  {
   "cell_type": "markdown",
   "id": "1dd63148",
   "metadata": {},
   "source": [
    "#### Example: A constant zero quantum oracle on 2 qubit inputs\n",
    "\n",
    "1. We are looking for a $U_0$ that satisfies\n",
    "\n",
    "$$\n",
    "U_0 |0 , q_1 q_0\\rangle = |0 \\oplus 0, q_1' q_0' \\rangle\n",
    "$$\n",
    "\n",
    "for any $|0, q_1 q_0\\rangle$.\n",
    "\n",
    "2. The third qubit (left-most) is where we are putting the output.\n",
    "\n",
    "3. It is in this sense that we have a constant $0$ function."
   ]
  },
  {
   "cell_type": "code",
   "execution_count": 19,
   "id": "e9cb6b94",
   "metadata": {},
   "outputs": [
    {
     "data": {
      "image/png": "[encoded data removed]",
      "text/plain": [
       "<Figure size 203.885x284.278 with 1 Axes>"
      ]
     },
     "execution_count": 19,
     "metadata": {},
     "output_type": "execute_result"
    }
   ],
   "source": [
    "const_oracle0 = QuantumCircuit(3)\n",
    "const_oracle0.id(0)\n",
    "const_oracle0.id(1)\n",
    "# q_0 and q_1 encode inputs\n",
    "# q_2 encodes output\n",
    "const_oracle0.draw(output=\"mpl\", style=\"iqp\")"
   ]
  },
  {
   "cell_type": "code",
   "execution_count": 20,
   "id": "2791fda9",
   "metadata": {},
   "outputs": [
    {
     "data": {
      "text/latex": [
       "$$ |011\\rangle$$"
      ],
      "text/plain": [
       "<IPython.core.display.Latex object>"
      ]
     },
     "execution_count": 20,
     "metadata": {},
     "output_type": "execute_result"
    }
   ],
   "source": [
    "x = one ^ one\n",
    "U_0 = Operator(const_oracle0)\n",
    "# Check that qubit 2 (left-most since little endian), is zero\n",
    "(zero ^ x).evolve(U_0).draw(\"latex\")"
   ]
  },
  {
   "cell_type": "markdown",
   "id": "d3e5deb6",
   "metadata": {},
   "source": [
    "#### Example: Another constant zero quantum oracle\n",
    "\n",
    "Note that there are many potential oracles. Here's another one."
   ]
  },
  {
   "cell_type": "code",
   "execution_count": 21,
   "id": "cecfe77e",
   "metadata": {},
   "outputs": [
    {
     "data": {
      "image/png": "[encoded data removed]",
      "text/plain": [
       "<Figure size 371.107x284.278 with 1 Axes>"
      ]
     },
     "execution_count": 21,
     "metadata": {},
     "output_type": "execute_result"
    }
   ],
   "source": [
    "another_const_oracle0 = QuantumCircuit(3)\n",
    "another_const_oracle0.h(0)\n",
    "another_const_oracle0.cx(1, 0)\n",
    "another_const_oracle0.x(1)\n",
    "# q_0 and q_1 encode inputs\n",
    "# q_2 encodes output\n",
    "another_const_oracle0.draw(output=\"mpl\", style=\"iqp\")"
   ]
  },
  {
   "cell_type": "code",
   "execution_count": 22,
   "id": "26ea9b29",
   "metadata": {},
   "outputs": [
    {
     "data": {
      "text/latex": [
       "$$\\frac{\\sqrt{2}}{2} |000\\rangle+\\frac{\\sqrt{2}}{2} |001\\rangle$$"
      ],
      "text/plain": [
       "<IPython.core.display.Latex object>"
      ]
     },
     "execution_count": 22,
     "metadata": {},
     "output_type": "execute_result"
    }
   ],
   "source": [
    "x = one ^ zero\n",
    "U_0_p = Operator(another_const_oracle0)\n",
    "# Check that qubit 2 (left-most since little endian), is zero\n",
    "(zero ^ x).evolve(U_0_p).draw(\"latex\")"
   ]
  },
  {
   "cell_type": "markdown",
   "id": "7ed41111",
   "metadata": {},
   "source": [
    "We can measure and check our answer."
   ]
  },
  {
   "cell_type": "code",
   "execution_count": 23,
   "id": "047e62c8",
   "metadata": {},
   "outputs": [
    {
     "data": {
      "image/png": "[encoded data removed]",
      "text/plain": [
       "<Figure size 538.33x367.889 with 1 Axes>"
      ]
     },
     "execution_count": 23,
     "metadata": {},
     "output_type": "execute_result"
    }
   ],
   "source": [
    "another_const_oracle0 = QuantumCircuit(3, 1)\n",
    "x = one ^ one\n",
    "another_const_oracle0.initialize(zero ^ x)\n",
    "another_const_oracle0.h(0)\n",
    "another_const_oracle0.cx(1, 0)\n",
    "another_const_oracle0.x(1)\n",
    "another_const_oracle0.measure(2, 0)\n",
    "another_const_oracle0.draw(output=\"mpl\", style=\"iqp\")"
   ]
  },
  {
   "cell_type": "code",
   "execution_count": 24,
   "id": "182014de",
   "metadata": {},
   "outputs": [
    {
     "data": {
      "image/png": "[encoded data removed]",
      "text/plain": [
       "<Figure size 700x500 with 1 Axes>"
      ]
     },
     "execution_count": 24,
     "metadata": {},
     "output_type": "execute_result"
    }
   ],
   "source": [
    "results = sim.run(another_const_oracle0, shots=1024).result()\n",
    "answer = results.get_counts()\n",
    "plot_histogram(answer)"
   ]
  },
  {
   "cell_type": "markdown",
   "id": "0c9c5640",
   "metadata": {},
   "source": [
    "#### Example: A constant one quantum oracle on 2 qubit inputs\n",
    "\n",
    "1. We are looking for a $U_1$ that satisfies\n",
    "\n",
    "$$\n",
    "U_1 |1, q_1 q_0\\rangle = |1 \\oplus 0, q_1' q_0' \\rangle\n",
    "$$\n",
    "\n",
    "for any $|0 q_1 q_0\\rangle$.\n",
    "\n",
    "2. The third qubit (left-most) is where we are putting the output which is always $1$.\n",
    "\n",
    "3. It is in this sense that we have a constant $1$ function."
   ]
  },
  {
   "cell_type": "code",
   "execution_count": 25,
   "id": "c41084aa",
   "metadata": {},
   "outputs": [
    {
     "data": {
      "image/png": "[encoded data removed]",
      "text/plain": [
       "<Figure size 203.885x284.278 with 1 Axes>"
      ]
     },
     "execution_count": 25,
     "metadata": {},
     "output_type": "execute_result"
    }
   ],
   "source": [
    "const_oracle1 = QuantumCircuit(3)\n",
    "const_oracle1.id(0)\n",
    "const_oracle1.id(1)\n",
    "const_oracle1.x(2)\n",
    "# q_0 and q_1 encode inputs\n",
    "# q_2 encodes output\n",
    "const_oracle1.draw(output=\"mpl\", style=\"iqp\")"
   ]
  },
  {
   "cell_type": "code",
   "execution_count": 26,
   "id": "29a0c199",
   "metadata": {},
   "outputs": [
    {
     "data": {
      "text/latex": [
       "$$ |110\\rangle$$"
      ],
      "text/plain": [
       "<IPython.core.display.Latex object>"
      ]
     },
     "execution_count": 26,
     "metadata": {},
     "output_type": "execute_result"
    }
   ],
   "source": [
    "x = one ^ zero\n",
    "U_1 = Operator(const_oracle1)\n",
    "# Check that qubit 2 (left-most since little endian), is one\n",
    "(zero ^ x).evolve(U_1).draw(\"latex\")"
   ]
  },
  {
   "cell_type": "markdown",
   "id": "cb5b2bfb",
   "metadata": {},
   "source": [
    "#### Example: A balanced quantum oracle\n",
    "\n",
    "1. We are looking for a $U_b$ that satisfies\n",
    "\n",
    "$$\n",
    "U_b |0, q_1 q_0\\rangle = |0 \\oplus 0, q_1' q_0' \\rangle\n",
    "$$\n",
    "\n",
    "for half of $|q_1 q_0\\rangle$ and\n",
    "\n",
    "$$\n",
    "U_b |0, q_1 q_0\\rangle = |0 \\oplus 1, q_1' q_0' \\rangle\n",
    "$$\n",
    "\n",
    "for the rest of $|q_1 q_0\\rangle$.\n",
    "\n",
    "2. The third qubit (left-most) is where we are putting the output.\n",
    "\n",
    "3. It is in this sense that we have a constant $0$ function."
   ]
  },
  {
   "cell_type": "code",
   "execution_count": 27,
   "id": "5ddb1180",
   "metadata": {},
   "outputs": [
    {
     "data": {
      "image/png": "[encoded data removed]",
      "text/plain": [
       "<Figure size 287.496x284.278 with 1 Axes>"
      ]
     },
     "execution_count": 27,
     "metadata": {},
     "output_type": "execute_result"
    }
   ],
   "source": [
    "b_oracle = QuantumCircuit(3)\n",
    "b_oracle.cx(0, 2)\n",
    "b_oracle.cx(0, 1)\n",
    "# q_0 and q_1 encode inputs\n",
    "# q_2 encodes output\n",
    "b_oracle.draw(output=\"mpl\", style=\"iqp\")"
   ]
  },
  {
   "cell_type": "code",
   "execution_count": 28,
   "id": "ca40b6a5",
   "metadata": {},
   "outputs": [],
   "source": [
    "x = one ^ zero\n",
    "U_b = Operator(b_oracle)"
   ]
  },
  {
   "cell_type": "markdown",
   "id": "c234f679",
   "metadata": {},
   "source": [
    "As a check that this is a correct encoding of a balanced oracle, we need to find two inputs that produce 0 and two inputs that produce 1. The two inputs that produce 0 are given below."
   ]
  },
  {
   "cell_type": "code",
   "execution_count": 29,
   "id": "78ad6c1e",
   "metadata": {},
   "outputs": [
    {
     "data": {
      "text/latex": [
       "$$ |000\\rangle$$"
      ],
      "text/plain": [
       "<IPython.core.display.Latex object>"
      ]
     },
     "execution_count": 29,
     "metadata": {},
     "output_type": "execute_result"
    }
   ],
   "source": [
    "# Check the left-most qubit is 0\n",
    "(zero ^ (zero ^ zero)).evolve(U_b).draw(\"latex\")"
   ]
  },
  {
   "cell_type": "code",
   "execution_count": 30,
   "id": "9a3fd6a3",
   "metadata": {},
   "outputs": [
    {
     "data": {
      "text/latex": [
       "$$ |010\\rangle$$"
      ],
      "text/plain": [
       "<IPython.core.display.Latex object>"
      ]
     },
     "execution_count": 30,
     "metadata": {},
     "output_type": "execute_result"
    }
   ],
   "source": [
    "# Check the left-most qubit is 0\n",
    "(zero ^ (one ^ zero)).evolve(U_b).draw(\"latex\")"
   ]
  },
  {
   "cell_type": "markdown",
   "id": "e7106366",
   "metadata": {},
   "source": [
    "The two inputs that produce 1 are given next."
   ]
  },
  {
   "cell_type": "code",
   "execution_count": 31,
   "id": "bbf98ba5",
   "metadata": {},
   "outputs": [
    {
     "data": {
      "text/latex": [
       "$$ |111\\rangle$$"
      ],
      "text/plain": [
       "<IPython.core.display.Latex object>"
      ]
     },
     "execution_count": 31,
     "metadata": {},
     "output_type": "execute_result"
    }
   ],
   "source": [
    "(zero ^ (zero ^ one)).evolve(U_b).draw(\"latex\")"
   ]
  },
  {
   "cell_type": "code",
   "execution_count": 32,
   "id": "3fca338f",
   "metadata": {},
   "outputs": [
    {
     "data": {
      "text/latex": [
       "$$ |101\\rangle$$"
      ],
      "text/plain": [
       "<IPython.core.display.Latex object>"
      ]
     },
     "execution_count": 32,
     "metadata": {},
     "output_type": "execute_result"
    }
   ],
   "source": [
    "(zero ^ (one ^ one)).evolve(U_b).draw(\"latex\")"
   ]
  },
  {
   "cell_type": "markdown",
   "id": "d12fa975",
   "metadata": {},
   "source": [
    "## Quantum Solution\n",
    "\n",
    "We've established that the classical deterministic solution is exponential. We've also established that there is an efficient classical probabilistic solution that has constant complexity. We'll now give a quantum algorithm for solving the Deutsch-Jozsa problem. We'll begin with $U_f$ that works on 2-qubit inputs so we'll need 3-qubits to handle the xor oracle. The $n$-qubit case follows as a straightforward generalization. We'll choose the following encoding of the output\n",
    "- Produce $|00\\rangle$ when $U_f$ is constant.\n",
    "- Produce any other qubit string when $U_f$ is balanced.\n",
    "\n",
    "At a high-level, this algorithm works by cleverly encoding the answer to the problem in the phase of a quantum state. The idea of cleverly encoding the answer in the phase of a quantum state is used in many quantum algorithms."
   ]
  },
  {
   "cell_type": "code",
   "execution_count": 33,
   "id": "f10b1ebf",
   "metadata": {},
   "outputs": [
    {
     "data": {
      "image/png": "[encoded data removed]",
      "text/plain": [
       "<Figure size 162.08x367.889 with 1 Axes>"
      ]
     },
     "execution_count": 33,
     "metadata": {},
     "output_type": "execute_result"
    }
   ],
   "source": [
    "# Construct a circuit that solves deutsch-jozsa on 2 qubits.\n",
    "dj_circ = QuantumCircuit(3, 2)\n",
    "dj_circ.draw(output=\"mpl\", style=\"iqp\")"
   ]
  },
  {
   "cell_type": "markdown",
   "id": "f1101766",
   "metadata": {},
   "source": [
    "### Step 1: Initial State\n",
    "\n",
    "Initialize state to $|100\\rangle$. Since $q_0$ and $q_1$ are already $|0\\rangle$, we just apply the $X$ gate to flip $q_2$ from $|0\\rangle$ to $|1\\rangle$."
   ]
  },
  {
   "cell_type": "code",
   "execution_count": 34,
   "id": "4baec777",
   "metadata": {},
   "outputs": [
    {
     "data": {
      "text/plain": [
       "CircuitInstruction(operation=Instruction(name='barrier', num_qubits=3, num_clbits=0, params=[]), qubits=(Qubit(QuantumRegister(3, 'q'), 0), Qubit(QuantumRegister(3, 'q'), 1), Qubit(QuantumRegister(3, 'q'), 2)), clbits=())"
      ]
     },
     "execution_count": 34,
     "metadata": {},
     "output_type": "execute_result"
    }
   ],
   "source": [
    "# Step 1: Create initial state\n",
    "dj_circ.x(2)\n",
    "dj_circ.barrier(label=\"Step 1 | Step 2\")"
   ]
  },
  {
   "cell_type": "markdown",
   "id": "7306b53d",
   "metadata": {},
   "source": [
    "#### State after step 1\n",
    "\n",
    "The state after step 1 is\n",
    "\n",
    "\\begin{align*}\n",
    "|\\psi_1\\rangle & = |100\\rangle \\,.\n",
    "\\end{align*}"
   ]
  },
  {
   "cell_type": "markdown",
   "id": "1f0b86a4",
   "metadata": {},
   "source": [
    "### Step 2: Put in superposition\n",
    "\n",
    "Apply $H^{\\otimes 3} = \\frac{1}{\\sqrt{2^3}} \\sum_{x \\in \\{0, 1\\}^3} \\sum_{y \\in \\{0, 1\\}^3}(-1)^{x \\cdot y} |x\\rangle\\langle y|$ where $x \\cdot y$ is the dot product."
   ]
  },
  {
   "cell_type": "code",
   "execution_count": 35,
   "id": "e69a5a55",
   "metadata": {},
   "outputs": [
    {
     "data": {
      "image/png": "[encoded data removed]",
      "text/plain": [
       "<Figure size 789.163x367.889 with 1 Axes>"
      ]
     },
     "execution_count": 35,
     "metadata": {},
     "output_type": "execute_result"
    }
   ],
   "source": [
    "# Step 2: Apply (H ^ H ^ H)\n",
    "dj_circ.h(0); dj_circ.h(1); dj_circ.h(2)\n",
    "dj_circ.barrier(label=\"Step 2 | Step 3\")\n",
    "dj_circ.draw(output=\"mpl\", style=\"iqp\")"
   ]
  },
  {
   "cell_type": "markdown",
   "id": "56b92b89",
   "metadata": {},
   "source": [
    "#### State after step 2\n",
    "\n",
    "\n",
    "We define\n",
    "\n",
    "$$\n",
    "\\{ 0, 1 \\}^{3} = \\{ 000, \\dots 111 \\}\n",
    "$$\n",
    "\n",
    "so that the summation is over quantum state vectors.\n",
    "\n",
    "Thus\n",
    "\\begin{align*}\n",
    "|\\psi_2\\rangle & = H^{\\otimes 3} |\\psi_1\\rangle \\tag{Step 2} \\\\\n",
    "& = H^{\\otimes 3} |100\\rangle \\tag{substitute $|\\psi_0\\rangle$} \\\\\n",
    "& = \\left( \\frac{1}{\\sqrt{2^3}} \\sum_{x \\in \\{0, 1\\}^3} \\sum_{y \\in \\{0, 1\\}^3}(-1)^{x \\cdot y} |x\\rangle\\langle y| \\right) |100\\rangle \\tag{definition $H^{\\otimes n}$ } \\\\\n",
    "& = \\frac{1}{\\sqrt{2^3}} \\sum_{x \\in \\{0, 1\\}^3} \\sum_{y \\in \\{0, 1\\}^3}(-1)^{x \\cdot y} |x\\rangle\\langle y||100\\rangle \\tag{linearity} \\\\\n",
    "& = \\frac{1}{\\sqrt{2^3}} \\sum_{x \\in \\{0, 1\\}^3} (-1)^{x \\cdot |100\\rangle} |x\\rangle \\tag{non-zero when $y = |100\\rangle$} \\\\\n",
    "\\end{align*}"
   ]
  },
  {
   "cell_type": "markdown",
   "id": "fa4668f3",
   "metadata": {},
   "source": [
    "### Step 3: Apply oracle\n",
    "\n",
    "Apply the oracle\n",
    "\n",
    "$$\n",
    "U_o |y, x\\rangle = |y \\oplus f(x), x\\rangle \\,.\n",
    "$$"
   ]
  },
  {
   "cell_type": "code",
   "execution_count": 36,
   "id": "9ba30dc3",
   "metadata": {},
   "outputs": [
    {
     "data": {
      "image/png": "[encoded data removed]",
      "text/plain": [
       "<Figure size 1207.22x367.889 with 1 Axes>"
      ]
     },
     "execution_count": 36,
     "metadata": {},
     "output_type": "execute_result"
    }
   ],
   "source": [
    "# Step 3: Apply oracle by splicing in the balanced oracle\n",
    "dj_circ = dj_circ.compose(b_oracle)\n",
    "dj_circ.barrier(label=\"Step 3 | Step 4\")\n",
    "dj_circ.draw(output=\"mpl\", style=\"iqp\")"
   ]
  },
  {
   "cell_type": "markdown",
   "id": "9b16bb45",
   "metadata": {},
   "source": [
    "#### State after step 3\n",
    "\n",
    "After we apply the oracle, we obtain the following quantum state\n",
    "\n",
    "\\begin{align*}\n",
    "|\\psi_3\\rangle & = U_o |\\psi_2\\rangle \\\\\n",
    "& = \\frac{1}{\\sqrt{2^3}} \\sum_{x \\in \\{0, 1\\}^3} (-1)^{x \\cdot |100\\rangle} U_o |x\\rangle \\tag{linearity} \\\\\n",
    "& = \\frac{1}{\\sqrt{2^3}} \\sum_{x \\in \\{0, 1\\}^2} \\sum_{y \\in \\{0, 1\\}} (-1)^{|y, x\\rangle \\cdot |100\\rangle} U_o |y, x\\rangle \\tag{rearrange} \\\\\n",
    "& = \\frac{1}{\\sqrt{2^3}} \\sum_{x \\in \\{0, 1\\}^2} \\sum_{y \\in \\{0, 1\\}} (-1)^{|y \\rangle} |y \\oplus f(x), x\\rangle \\tag{$U_o$} \\\\\n",
    "& = \\frac{1}{\\sqrt{2^3}} \\sum_{x \\in \\{0, 1\\}^2} (-1)^{|f(x)\\rangle} (|0\\rangle - |1\\rangle) \\rangle|x\\rangle \\tag{simplification} \\\\\n",
    "& = \\frac{1}{\\sqrt{2}}(|0\\rangle - |1\\rangle) \\rangle \\otimes \\left( \\frac{1}{\\sqrt{2^2}} \\sum_{x \\in \\{0, 1\\}^2} (-1)^{|f(x)\\rangle} |x\\rangle \\right) \\tag{rearrange} \\\\\n",
    "& = \\frac{1}{\\sqrt{2}}(|0\\rangle - |1\\rangle) \\rangle \\otimes |\\psi_3'\\rangle \\tag{label first half $|\\psi_3\\rangle$} \\,.\n",
    "\\end{align*}\n",
    "\n",
    "Observe how the result of the oracle $|f(x)\\rangle$ has snuck its way into the phase of $\\psi_2'\\rangle$."
   ]
  },
  {
   "cell_type": "markdown",
   "id": "9771ee43",
   "metadata": {},
   "source": [
    "### Step 4: Prepare for measurement\n",
    "\n",
    "In this next step, we are going to try to extract the phase of $|\\psi_3'\\rangle$. Towards this end, we will apply $H^{\\otimes 2} = \\frac{1}{\\sqrt{2^2}} \\sum_{x \\in \\{0, 1\\}^2} \\sum_{y \\in \\{0, 1\\}^2}(-1)^{x \\cdot y} |x\\rangle\\langle y|$ to $|\\psi_3'\\rangle$ so that it is in a form that we can measure."
   ]
  },
  {
   "cell_type": "code",
   "execution_count": 37,
   "id": "e11b0c8d",
   "metadata": {},
   "outputs": [
    {
     "data": {
      "image/png": "[encoded data removed]",
      "text/plain": [
       "<Figure size 1541.66x367.889 with 1 Axes>"
      ]
     },
     "execution_count": 37,
     "metadata": {},
     "output_type": "execute_result"
    }
   ],
   "source": [
    "# Step 4: Apply (H ^ H ^ I)\n",
    "dj_circ.h(0); dj_circ.h(1)\n",
    "dj_circ.barrier(label=\"Step 4 | Step 5\")\n",
    "dj_circ.draw(output=\"mpl\", style=\"iqp\")"
   ]
  },
  {
   "cell_type": "markdown",
   "id": "fb3ede69",
   "metadata": {},
   "source": [
    "#### State after step 4\n",
    "\n",
    "After applying step 4, we obtain the following quantum state\n",
    "\n",
    "\\begin{align*}\n",
    "|\\psi_4'\\rangle & = H^{\\otimes 2} |\\psi_3'\\rangle \\tag{Step 4} \\\\\n",
    "& = \\left( \\frac{1}{\\sqrt{2^2}} \\sum_{x \\in \\{0, 1\\}^2} \\sum_{y \\in \\{0, 1\\}^2}(-1)^{x \\cdot y} |x\\rangle\\langle y|  \\right) \\left( \\frac{1}{\\sqrt{2^2}} \\sum_{x \\in \\{0, 1\\}^2} (-1)^{|f(x)\\rangle} |x\\rangle \\right) \\tag{definition of $H^{\\otimes 2}$ and $|\\psi_2'\\rangle$} \\\\\n",
    "& = \\frac{1}{2^2} \\sum_{x \\in \\{0, 1\\}^2} \\sum_{y \\in \\{0, 1\\}^2} \\sum_{z \\in \\{0, 1\\}^2} (-1)^{x \\cdot y} (-1)^{|f(z)\\rangle} |x\\rangle\\langle y||z\\rangle \\tag{linearity} \\\\\n",
    "& = \\frac{1}{2^2} \\sum_{x \\in \\{0, 1\\}^2} \\sum_{y \\in \\{0, 1\\}^2} (-1)^{x \\cdot y} (-1)^{|f(y)\\rangle} |y\\rangle \n",
    "\\tag{non-zero when $y = z$} \\\\\n",
    "& = \\frac{1}{2^2} \\sum_{y \\in \\{0, 1\\}^2} \\sum_{x \\in \\{0, 1\\}^2} (-1)^{x \\cdot y} (-1)^{|f(y)\\rangle} |y\\rangle \\tag{rearrange sum} \\\\\n",
    "& = \\frac{1}{2^2} \\sum_{y \\in \\{0, 1\\}^2} (-1)^{|f(y)\\rangle} \\sum_{x \\in \\{0, 1\\}^2} (-1)^{x \\cdot y} |y\\rangle \n",
    "\\tag{factor} \\\\\n",
    "& = \\frac{1}{2^2} \\sum_{x \\in \\{0, 1\\}^2} (-1)^{|f(x)\\rangle} \\sum_{y \\in \\{0, 1\\}^2} (-1)^{x \\cdot y} |x\\rangle \\tag{rename x for y and symmetry of $\\cdot$} \\\\\n",
    "& = \\frac{1}{2^2} \\sum_{x \\in \\{0, 1\\}^2} (-1)^{|f(x)\\rangle} |00\\rangle + \\frac{1}{2^2} \\sum_{x \\in \\{0, 1\\}^2} (-1)^{|f(x)\\rangle} (-1)^{|01\\rangle \\cdot x} |01\\rangle \\\\\n",
    "& \\phantom{=} + \\frac{1}{2^2} \\sum_{x \\in \\{0, 1\\}^2} (-1)^{|f(x)\\rangle} (-1)^{|10\\rangle \\cdot x} |10\\rangle + \\frac{1}{2^2} \\sum_{x \\in \\{0, 1\\}^2} (-1)^{|f(x)\\rangle} (-1)^{|11\\rangle \\cdot x} |11\\rangle \\tag{expand} \\,.\n",
    "\\end{align*}"
   ]
  },
  {
   "cell_type": "markdown",
   "id": "a6f13fdf",
   "metadata": {},
   "source": [
    "##### Step 5: Measure\n",
    "\n",
    "Measure $|\\psi_4'\\rangle$."
   ]
  },
  {
   "cell_type": "code",
   "execution_count": 38,
   "id": "7f229a2b",
   "metadata": {},
   "outputs": [
    {
     "data": {
      "image/png": "[encoded data removed]",
      "text/plain": [
       "<Figure size 1708.89x367.889 with 1 Axes>"
      ]
     },
     "execution_count": 38,
     "metadata": {},
     "output_type": "execute_result"
    }
   ],
   "source": [
    "# Step 5: Measure\n",
    "dj_circ.measure(0, 0)\n",
    "dj_circ.measure(1, 1)\n",
    "dj_circ.draw(output=\"mpl\", style=\"iqp\")"
   ]
  },
  {
   "cell_type": "markdown",
   "id": "f41a9dd9",
   "metadata": {},
   "source": [
    "#### State after step 5\n",
    "\n",
    "The amplitude of state $|00\\rangle$ is\n",
    "\n",
    "$$\n",
    "\\frac{1}{2^n} \\sum_{x \\in \\{ 0, 1\\}} (-1)^{f(x)}\n",
    "$$\n",
    "\n",
    "which is \n",
    "1. $1$ if $f(x) = 0$ always,\n",
    "2. $-1$ if $f(x) = -1$ always,\n",
    "3. $0$ when $f(x)$ is balanced."
   ]
  },
  {
   "cell_type": "code",
   "execution_count": 39,
   "id": "9ed003ca",
   "metadata": {},
   "outputs": [
    {
     "data": {
      "image/png": "[encoded data removed]",
      "text/plain": [
       "<Figure size 700x500 with 1 Axes>"
      ]
     },
     "execution_count": 39,
     "metadata": {},
     "output_type": "execute_result"
    }
   ],
   "source": [
    "results = sim.run(dj_circ, shots=1024).result()\n",
    "answer = results.get_counts()\n",
    "# Should expect |01>\n",
    "plot_histogram(answer)"
   ]
  },
  {
   "cell_type": "markdown",
   "id": "2aa03c81",
   "metadata": {},
   "source": [
    "### Putting it Together\n",
    "\n",
    "We gather the circuit from before into a single function and generalize it to work with n qubits."
   ]
  },
  {
   "cell_type": "code",
   "execution_count": 40,
   "id": "b315dbba",
   "metadata": {},
   "outputs": [],
   "source": [
    "def gen_dj_circ(oracle_circ):\n",
    "    # Create circuit\n",
    "    n = oracle_circ.num_qubits\n",
    "    dj_circ = QuantumCircuit(n, n-1)\n",
    "\n",
    "    # Hadamard inputs\n",
    "    for i in range(n - 1):\n",
    "        dj_circ.h(i)\n",
    "    dj_circ.barrier(label=\"Step 1 | Step 2\")\n",
    "        \n",
    "    # Set oracle output\n",
    "    dj_circ.x(n-1); dj_circ.h(n-1)\n",
    "    dj_circ.barrier(label=\"Step 2 | Step 3\")\n",
    "        \n",
    "    # Splice in the oracle\n",
    "    dj_circ = dj_circ.compose(oracle_circ)\n",
    "    dj_circ.barrier(label=\"Step 3 | Step 4\")\n",
    "        \n",
    "    # Hadmard outputs\n",
    "    for i in range(n - 1):\n",
    "        dj_circ.h(i)\n",
    "    dj_circ.barrier(label=\"Step 4 | Step 5\")\n",
    "        \n",
    "    # Measure\n",
    "    for i in range(n - 1):\n",
    "        dj_circ.measure(i, i)\n",
    "        \n",
    "    return dj_circ"
   ]
  },
  {
   "cell_type": "code",
   "execution_count": 41,
   "id": "a1a4ee6e",
   "metadata": {},
   "outputs": [
    {
     "data": {
      "image/png": "[encoded data removed]",
      "text/plain": [
       "<Figure size 1792.5x367.889 with 1 Axes>"
      ]
     },
     "execution_count": 41,
     "metadata": {},
     "output_type": "execute_result"
    }
   ],
   "source": [
    "gen_dj_circ(b_oracle).draw(output=\"mpl\", style=\"iqp\")"
   ]
  },
  {
   "cell_type": "markdown",
   "id": "7329dbc3",
   "metadata": {},
   "source": [
    "#### Example\n",
    "\n",
    "Here's an example with the constant oracle."
   ]
  },
  {
   "cell_type": "code",
   "execution_count": 42,
   "id": "916c71c8",
   "metadata": {},
   "outputs": [
    {
     "data": {
      "image/png": "[encoded data removed]",
      "text/plain": [
       "<Figure size 1708.89x367.889 with 1 Axes>"
      ]
     },
     "execution_count": 42,
     "metadata": {},
     "output_type": "execute_result"
    }
   ],
   "source": [
    "dj_circ_c = gen_dj_circ(const_oracle0)\n",
    "dj_circ_c.draw(output=\"mpl\", style=\"iqp\")"
   ]
  },
  {
   "cell_type": "code",
   "execution_count": 43,
   "id": "5f707b2c",
   "metadata": {},
   "outputs": [
    {
     "data": {
      "image/png": "[encoded data removed]",
      "text/plain": [
       "<Figure size 700x500 with 1 Axes>"
      ]
     },
     "execution_count": 43,
     "metadata": {},
     "output_type": "execute_result"
    }
   ],
   "source": [
    "results = sim.run(dj_circ_c, shots=1024).result()\n",
    "answer = results.get_counts()\n",
    "# Should expect all |00>\n",
    "plot_histogram(answer)"
   ]
  },
  {
   "cell_type": "markdown",
   "id": "cfaff79a",
   "metadata": {},
   "source": [
    "### Comparing Algorithms\n",
    "\n",
    "\n",
    "1. Classical algorithm has $O(2^n)$ runtime and no error.\n",
    "2. Probabilisitic algorithm has $O(k$ runtime where $k$ is the number of samples and probability $2^{k-1}$ of predicting constant when balanced.\n",
    "3. Quantum algorithm has $O(1)$ runtime with no error."
   ]
  },
  {
   "cell_type": "markdown",
   "id": "3ada60eb",
   "metadata": {},
   "source": [
    "## Summary\n",
    "\n",
    "1. We introduced the Deutsch-Jozsa problem.\n",
    "2. Gave classical and classical probabilistic algorithms.\n",
    "3. Gave a quantum solution to Deutsh-Jozsa problem. We also introduced the notion of a quantum oracle."
   ]
  },
  {
   "cell_type": "code",
   "execution_count": null,
   "id": "d51864f9",
   "metadata": {},
   "outputs": [],
   "source": []
  }
 ],
 "metadata": {
  "kernelspec": {
   "display_name": "Python 3 (ipykernel)",
   "language": "python",
   "name": "python3"
  },
  "language_info": {
   "codemirror_mode": {
    "name": "ipython",
    "version": 3
   },
   "file_extension": ".py",
   "mimetype": "text/x-python",
   "name": "python",
   "nbconvert_exporter": "python",
   "pygments_lexer": "ipython3",
   "version": "3.11.5"
  }
 },
 "nbformat": 4,
 "nbformat_minor": 5
}

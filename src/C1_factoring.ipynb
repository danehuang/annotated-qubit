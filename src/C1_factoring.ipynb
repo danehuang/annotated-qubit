{
 "cells": [
  {
   "cell_type": "code",
   "execution_count": 1,
   "id": "a52959f7",
   "metadata": {},
   "outputs": [],
   "source": [
    "from typing import *\n",
    "import math\n",
    "import matplotlib.pyplot as plt"
   ]
  },
  {
   "cell_type": "markdown",
   "id": "5252d2de",
   "metadata": {},
   "source": [
    "# Appendix: Factoring Integers\n",
    "\n",
    "In this notebook, we'll cover the basics of factoring integers at the level needed to understand RSA and Shor's algorithm. This includes reviewing\n",
    "1. basic **number theory**,\n",
    "2. the **order finding** problem,\n",
    "3. and reducing factoring to order finding."
   ]
  },
  {
   "cell_type": "markdown",
   "id": "0a441fdd",
   "metadata": {},
   "source": [
    "## Basic Number Theory"
   ]
  },
  {
   "cell_type": "markdown",
   "id": "a975e140",
   "metadata": {},
   "source": [
    "### Prime Numbers\n",
    "\n",
    "A number $p$ is **prime** if it cannot be divided by any other number except $1$ and $p$."
   ]
  },
  {
   "cell_type": "code",
   "execution_count": 2,
   "id": "34e6ce99",
   "metadata": {},
   "outputs": [],
   "source": [
    "def prime_seive(n):\n",
    "    def seive(primes, i):\n",
    "        for prime in primes:\n",
    "            if prime > math.ceil(math.sqrt(n)):\n",
    "                break\n",
    "            if i % prime == 0:\n",
    "                return False\n",
    "        return True\n",
    "    \n",
    "    primes = [2, 3, 5]\n",
    "    for i in range(6, n, 6):\n",
    "        if seive(primes, i - 1):\n",
    "            primes += [i - 1]\n",
    "        if seive(primes, i + 1):\n",
    "            primes += [i + 1]\n",
    "    return primes"
   ]
  },
  {
   "cell_type": "code",
   "execution_count": 3,
   "id": "74132622",
   "metadata": {},
   "outputs": [
    {
     "data": {
      "text/plain": [
       "[2, 3, 5, 7, 11, 13, 17, 19, 23, 29, 31, 37, 41, 43, 47]"
      ]
     },
     "execution_count": 3,
     "metadata": {},
     "output_type": "execute_result"
    }
   ],
   "source": [
    "prime_seive(50)"
   ]
  },
  {
   "cell_type": "markdown",
   "id": "b28cdc2b",
   "metadata": {},
   "source": [
    "### Prime Factorization\n",
    "\n",
    "Every number $n$ has a prime factorization, i.e.,\n",
    "\n",
    "$$\n",
    "n = p_1 \\dots p_m\n",
    "$$\n",
    "\n",
    "where $p_i$ is a prime."
   ]
  },
  {
   "cell_type": "code",
   "execution_count": 4,
   "id": "a1101355",
   "metadata": {},
   "outputs": [],
   "source": [
    "def factor(n):\n",
    "    factors = []\n",
    "    primes = prime_seive(n)\n",
    "    for prime in primes:\n",
    "        while n % prime == 0:\n",
    "            factors += [prime]\n",
    "            n = n / prime\n",
    "        if prime > n:\n",
    "            break\n",
    "    return factors"
   ]
  },
  {
   "cell_type": "code",
   "execution_count": 5,
   "id": "8f6c944b",
   "metadata": {},
   "outputs": [
    {
     "data": {
      "text/plain": [
       "[2, 2, 3, 5, 73, 89]"
      ]
     },
     "execution_count": 5,
     "metadata": {},
     "output_type": "execute_result"
    }
   ],
   "source": [
    "factor(2 * 73 * 2 * 5 * 3  * 89)"
   ]
  },
  {
   "cell_type": "code",
   "execution_count": 6,
   "id": "22d90dcb",
   "metadata": {},
   "outputs": [
    {
     "data": {
      "text/plain": [
       "([2, 2, 30853], 123412)"
      ]
     },
     "execution_count": 6,
     "metadata": {},
     "output_type": "execute_result"
    }
   ],
   "source": [
    "factor(123412), 2 * 2 * 30853"
   ]
  },
  {
   "cell_type": "markdown",
   "id": "e604ce68",
   "metadata": {},
   "source": [
    "### Remainder, Divisibility, Modulus\n",
    "\n",
    "1. Every positive integer can be written as \n",
    "\n",
    "$$\n",
    "x = nm + r\n",
    "$$\n",
    "\n",
    "for some choice of $n, m, r$.\n",
    "2. We say that $x$ is **congruent** to $r$ mod $m$, written\n",
    "\n",
    "$$\n",
    "x \\equiv r \\, (\\text{mod} \\, m)\n",
    "$$\n",
    "\n",
    "when $x = nm + r$. Note that $\\equiv$ is an **equivalence relation**.\n",
    "\n",
    "3. We say that $m$ **divides** $x$, written\n",
    "\n",
    "$$\n",
    "m | x\n",
    "$$\n",
    "\n",
    "if $r = 0$ or equivalently $x \\equiv 0 \\, (\\text{mod} \\, m)$."
   ]
  },
  {
   "cell_type": "code",
   "execution_count": 7,
   "id": "33ed0019",
   "metadata": {},
   "outputs": [
    {
     "data": {
      "text/plain": [
       "Text(0.5, 1.0, 'x (mod 7)')"
      ]
     },
     "execution_count": 7,
     "metadata": {},
     "output_type": "execute_result"
    },
    {
     "data": {
      "image/png": "[encoded data removed]",
      "text/plain": [
       "<Figure size 640x480 with 1 Axes>"
      ]
     },
     "metadata": {},
     "output_type": "display_data"
    }
   ],
   "source": [
    "xs = [x for x in range (21)]\n",
    "ys = [x % 7 for x in range(21)] # x (mod 7)\n",
    "plt.plot(xs, ys, marker='x')\n",
    "plt.title('x (mod 7)')"
   ]
  },
  {
   "cell_type": "markdown",
   "id": "f7f0af0b",
   "metadata": {},
   "source": [
    "### Greatest Common Divisor\n",
    "\n",
    "1. The **greatest common divisor** (**gcd**) of two numbers $n$ and $m$, written $\\text{gcd}(n, m)$, is the largest number $k$ such that $k | n$ and $k | m$.\n",
    "2. The gcd can be computed in polynomial time.\n",
    "3. Two numbers $n$ and $m$ are **relatively prime** if $\\text{gcd}(n, m) = 1$."
   ]
  },
  {
   "cell_type": "code",
   "execution_count": 8,
   "id": "9a6e3604",
   "metadata": {},
   "outputs": [
    {
     "data": {
      "text/plain": [
       "10"
      ]
     },
     "execution_count": 8,
     "metadata": {},
     "output_type": "execute_result"
    }
   ],
   "source": [
    "math.gcd(10, 20)"
   ]
  },
  {
   "cell_type": "code",
   "execution_count": 9,
   "id": "19571d1f",
   "metadata": {},
   "outputs": [
    {
     "data": {
      "text/plain": [
       "1"
      ]
     },
     "execution_count": 9,
     "metadata": {},
     "output_type": "execute_result"
    }
   ],
   "source": [
    "math.gcd(3, 5)  # 3 and 5 are relatively prime"
   ]
  },
  {
   "cell_type": "code",
   "execution_count": 10,
   "id": "6e031600",
   "metadata": {},
   "outputs": [
    {
     "data": {
      "text/plain": [
       "1"
      ]
     },
     "execution_count": 10,
     "metadata": {},
     "output_type": "execute_result"
    }
   ],
   "source": [
    "math.gcd(10, 21)  # 10 and 21 are relatively prime, but neither are prime"
   ]
  },
  {
   "cell_type": "markdown",
   "id": "a080fb19",
   "metadata": {},
   "source": [
    "### Fermat's little theorem\n",
    "\n",
    "**Fermat's little theorem** states that\n",
    "\n",
    "$$\n",
    "x^{p-1} \\equiv 1 \\, (\\text{mod} \\, p)\n",
    "$$\n",
    "\n",
    "for any prime $p$ and $1 \\leq x \\leq p - 1$."
   ]
  },
  {
   "cell_type": "code",
   "execution_count": 11,
   "id": "40994b1a",
   "metadata": {},
   "outputs": [
    {
     "data": {
      "text/plain": [
       "[2, 4, 1, 2, 4, 1]"
      ]
     },
     "execution_count": 11,
     "metadata": {},
     "output_type": "execute_result"
    }
   ],
   "source": [
    "# Example: Fermat's little theorem\n",
    "x = 2; p = 7\n",
    "acc = [x]\n",
    "for i in range(2, 7):\n",
    "    acc += [(acc[-1] * x) % p]\n",
    "acc  # contains x^i (mod p) for 1 <= i <= p - 1"
   ]
  },
  {
   "cell_type": "markdown",
   "id": "03c7fab1",
   "metadata": {},
   "source": [
    "#### Observation\n",
    "\n",
    "Multiplication of numbers $\\{ 1, \\dots, p-1 \\}$ mod $p$ is a permutation."
   ]
  },
  {
   "cell_type": "code",
   "execution_count": 12,
   "id": "84ade3b2",
   "metadata": {},
   "outputs": [
    {
     "name": "stdout",
     "output_type": "stream",
     "text": [
      "Multiplication (mod 7)\n",
      "x\\y  1 2 3 4 5 6\n",
      "  1 [1, 2, 3, 4, 5, 6]\n",
      "  2 [2, 4, 6, 1, 3, 5]\n",
      "  3 [3, 6, 2, 5, 1, 4]\n",
      "  4 [4, 1, 5, 2, 6, 3]\n",
      "  5 [5, 3, 1, 6, 4, 2]\n",
      "  6 [6, 5, 4, 3, 2, 1]\n"
     ]
    }
   ],
   "source": [
    "p = 7\n",
    "print(f\"Multiplication (mod {p})\")\n",
    "print(\"x\\\\y \", \" \".join([str(y) for y in range(1, p)]))\n",
    "for x in range(1, p):\n",
    "    print(' ', x, [(x * y) % p for y in range(1, p)])"
   ]
  },
  {
   "cell_type": "markdown",
   "id": "e896b48e",
   "metadata": {},
   "source": [
    "### Euler's totient function\n",
    "\n",
    "**Euler's totient function** \n",
    "\n",
    "$$\n",
    "\\phi(N) = |\\{ n : \\text{gcd}(n, x) = 1, n \\in \\mathbb{N} \\}|\n",
    "$$\n",
    "\n",
    "gives the number of naturals less than $N$ that are relatively prime to $N$."
   ]
  },
  {
   "cell_type": "code",
   "execution_count": 13,
   "id": "5b56e4c6",
   "metadata": {},
   "outputs": [],
   "source": [
    "def euler_totient(N):\n",
    "    cnt = 0\n",
    "    for i in range(N):\n",
    "        if math.gcd(i, N) == 1:\n",
    "           cnt += 1\n",
    "    return cnt"
   ]
  },
  {
   "cell_type": "code",
   "execution_count": 14,
   "id": "72ed20ad",
   "metadata": {},
   "outputs": [
    {
     "data": {
      "text/plain": [
       "6"
      ]
     },
     "execution_count": 14,
     "metadata": {},
     "output_type": "execute_result"
    }
   ],
   "source": [
    "euler_totient(9)"
   ]
  },
  {
   "cell_type": "code",
   "execution_count": 15,
   "id": "2ff3d375",
   "metadata": {},
   "outputs": [
    {
     "data": {
      "text/plain": [
       "(120, 120)"
      ]
     },
     "execution_count": 15,
     "metadata": {},
     "output_type": "execute_result"
    }
   ],
   "source": [
    "euler_totient(11*13), 10 * 12"
   ]
  },
  {
   "cell_type": "markdown",
   "id": "adafab84",
   "metadata": {},
   "source": [
    "### Euler's theorem\n",
    "\n",
    "**Euler's theorem** states that\n",
    "\n",
    "$$\n",
    "x^{(p-1)(q-1)} \\equiv 1 \\, (\\text{mod} \\, pq)\n",
    "$$\n",
    "\n",
    "for any distinct primes $p, q$ and $1 \\leq x \\leq (p - 1)(q - 1)$."
   ]
  },
  {
   "cell_type": "code",
   "execution_count": 16,
   "id": "5e1a7ab8",
   "metadata": {},
   "outputs": [
    {
     "data": {
      "text/plain": [
       "[2, 4, 8, 1, 2, 4, 8, 1]"
      ]
     },
     "execution_count": 16,
     "metadata": {},
     "output_type": "execute_result"
    }
   ],
   "source": [
    "# Example: Euler's theorem\n",
    "x = 2; p = 3; q = 5\n",
    "acc = [x]\n",
    "for i in range(2, (p-1)*(q-1)+1):\n",
    "    acc += [(acc[-1] * x) % (p*q)]\n",
    "acc  # contains x^i (mod p) for 1 <= i <= (p - 1)(q - 1)"
   ]
  },
  {
   "cell_type": "markdown",
   "id": "c2442846",
   "metadata": {},
   "source": [
    "## Order Finding Problem\n",
    "\n",
    "1. Let $a < N$ be relatively prime.\n",
    "2. The **order** of $a$ is the smallest number $s$ such that\n",
    "\n",
    "$$\n",
    "a^s \\equiv 1 \\, (\\text{mod} \\, N)\n",
    "$$\n",
    "\n",
    "3. The **order finding problem** is to determine the order of some given $a$ and $N$."
   ]
  },
  {
   "cell_type": "markdown",
   "id": "29060087",
   "metadata": {},
   "source": [
    "### Example\n",
    "\n",
    "Here is an example where we choose $a = 3$ and $N = 35$."
   ]
  },
  {
   "cell_type": "code",
   "execution_count": 17,
   "id": "3d0e72bb",
   "metadata": {},
   "outputs": [
    {
     "data": {
      "text/plain": [
       "Text(0.5, 1.0, 'a=3 and N = 35')"
      ]
     },
     "execution_count": 17,
     "metadata": {},
     "output_type": "execute_result"
    },
    {
     "data": {
      "image/png": "[encoded data removed]",
      "text/plain": [
       "<Figure size 640x480 with 1 Axes>"
      ]
     },
     "metadata": {},
     "output_type": "display_data"
    }
   ],
   "source": [
    "xs = [i for i in range(35)]\n",
    "ys = [(3 ** x) % 35 for x in xs]\n",
    "plt.plot(xs, ys, marker='x', linestyle='--')\n",
    "plt.title(\"a=3 and N = 35\")"
   ]
  },
  {
   "cell_type": "code",
   "execution_count": 18,
   "id": "0c679e06",
   "metadata": {},
   "outputs": [],
   "source": [
    "# order is 12"
   ]
  },
  {
   "cell_type": "markdown",
   "id": "687b5726",
   "metadata": {},
   "source": [
    "### Aside: Period finding\n",
    "\n",
    "A function $f: \\mathbb{N} \\rightarrow \\mathbb{N}$ is **periodic** if there is **period** $s > 0$ such that\n",
    "\n",
    "$$\n",
    "f(x) = f(y) \\iff s | (y - x)\n",
    "$$\n",
    "\n",
    "for every $x$ and $y$.\n",
    "\n",
    "1. $s | (y - x)$ is notation for $s$ divides $y - x$.\n",
    "2. The **period finding problem** is to determine the period $s$ given oracle access to $f$.\n",
    "3. The period finding problem is a generalization of the order finding problem."
   ]
  },
  {
   "cell_type": "markdown",
   "id": "0dfbdf31",
   "metadata": {},
   "source": [
    "## Reducing Factoring to Order Finding\n",
    "\n",
    "1. We don't need to solve the general case of factoring an arbitrary number.\n",
    "2. Instead, we'll just focus on factoring a product of two primes, which is the setting of Shor's algorithm."
   ]
  },
  {
   "cell_type": "markdown",
   "id": "349b6dc8",
   "metadata": {},
   "source": [
    "### Reducing factoring to order finding\n",
    "\n",
    "Suppose we are trying to factor $N = pq$ for primes $p$ and $q$.\n",
    "\n",
    "1. Pick a random r relatively prime to $N$ (which happens unless r is p or q).\n",
    "2. Find the order $s$ of\n",
    "\n",
    "$$\n",
    "r^x \\, (\\text{mod} \\, N) \\,.\n",
    "$$\n",
    "\n",
    "- This means that $r^s \\equiv 1 \\, (\\text{mod} \\, N)$ since $r^0 \\equiv 1 \\, (\\text{mod} \\, N)$.\n",
    "    - **Use a order finding algorithm to find s. We'll leave as a blackbox since we are reducing factoring to order finding.**\n",
    "3. Suppose $s$ is even. Then\n",
    "\\begin{align}\n",
    "0 \\, (\\text{mod} \\, N) & = r^{s} - 1 \\tag{definition of order} \\\\\n",
    "& = (r^{s/2} - 1)(r^{s/2} + 1) \\tag{Factoring}\n",
    "\\end{align}\n",
    "    - Recall $r^{\\phi(N)} \\equiv 1 \\, (\\text{mod} \\, N)$ by Euler's theorem.\n",
    "    - Thus $s | \\phi(N)$.\n",
    "4. Suppose further that neither $(r^{s/2} - 1)$ nor $(r^{s/2} + 1)$ is a multiple of $N$. Then either $\\text{gcd}(r^{s/2} - 1, N)$ or $\\text{gcd}(r^{s/2} + 1, N)$ is a factor of $N$, which gives us $p$ and subsequently $q$.\n",
    "5. If either condition 3 or 4 fail, goto 1. The probability that steps 3 and 4 succeed is greater than $1/2$. See Neilsen and Chuang Theorem A4.13."
   ]
  },
  {
   "cell_type": "markdown",
   "id": "66068db8",
   "metadata": {},
   "source": [
    "### Example\n",
    "\n",
    "Factor $N = 3 \\cdot 5$."
   ]
  },
  {
   "cell_type": "code",
   "execution_count": 19,
   "id": "6f8f88de",
   "metadata": {},
   "outputs": [],
   "source": [
    "N = 35   # number we are trying to factor"
   ]
  },
  {
   "cell_type": "code",
   "execution_count": 20,
   "id": "abab72a1",
   "metadata": {},
   "outputs": [],
   "source": [
    "# Step 1\n",
    "r = 17    # randomly choosen"
   ]
  },
  {
   "cell_type": "code",
   "execution_count": 21,
   "id": "67c8c9f7",
   "metadata": {},
   "outputs": [
    {
     "data": {
      "text/plain": [
       "[<matplotlib.lines.Line2D at 0x1102b5700>]"
      ]
     },
     "execution_count": 21,
     "metadata": {},
     "output_type": "execute_result"
    },
    {
     "data": {
      "image/png": "[encoded data removed]",
      "text/plain": [
       "<Figure size 640x480 with 1 Axes>"
      ]
     },
     "metadata": {},
     "output_type": "display_data"
    }
   ],
   "source": [
    "# Step 2: Order find somehow\n",
    "xs = [x for x in range(15)]\n",
    "ys = [(r ** x) % N for x in xs]\n",
    "plt.plot(xs, ys, marker='x')"
   ]
  },
  {
   "cell_type": "code",
   "execution_count": 22,
   "id": "f4ad0d47",
   "metadata": {},
   "outputs": [
    {
     "data": {
      "text/plain": [
       "(24137568, 24137570)"
      ]
     },
     "execution_count": 22,
     "metadata": {},
     "output_type": "execute_result"
    }
   ],
   "source": [
    "# Step 3: order find somehow\n",
    "s = 12 # manual inspection\n",
    "# s is even, so we can continue\n",
    "left, right = int(r ** (s / 2) - 1), int(r ** (s / 2) + 1)\n",
    "left, right"
   ]
  },
  {
   "cell_type": "code",
   "execution_count": 23,
   "id": "0ea07ab0",
   "metadata": {},
   "outputs": [
    {
     "name": "stdout",
     "output_type": "stream",
     "text": [
      "Left multiple of N False\n",
      "Right multiple of N False\n"
     ]
    },
    {
     "data": {
      "text/plain": [
       "(7, 5)"
      ]
     },
     "execution_count": 23,
     "metadata": {},
     "output_type": "execute_result"
    }
   ],
   "source": [
    "# Step 4: Check the multiple condition\n",
    "print(\"Left multiple of N\", left % N == 0)\n",
    "print(\"Right multiple of N\", right % N == 0)\n",
    "math.gcd(left, N), math.gcd(right, N)"
   ]
  },
  {
   "cell_type": "code",
   "execution_count": 24,
   "id": "cfafcc8b",
   "metadata": {},
   "outputs": [
    {
     "data": {
      "text/plain": [
       "(7, 5.0)"
      ]
     },
     "execution_count": 24,
     "metadata": {},
     "output_type": "execute_result"
    }
   ],
   "source": [
    "# Step 5: return the primes\n",
    "math.gcd(left, N), N / math.gcd(left, N)"
   ]
  },
  {
   "cell_type": "markdown",
   "id": "50a1792b",
   "metadata": {},
   "source": [
    "### Putting it together\n",
    "\n",
    "We can put the steps above together into an algorithm that reduces factoring to order finding."
   ]
  },
  {
   "cell_type": "code",
   "execution_count": 25,
   "id": "6f97a2d6",
   "metadata": {},
   "outputs": [],
   "source": [
    "def factor2_to_order(N: int, a: int, s: int) -> int:\n",
    "    # Check that s is even\n",
    "    if s % 2 != 0:\n",
    "        print(s)\n",
    "        return None\n",
    "    \n",
    "    guesses = [math.gcd(a**(s//2)-1, N), math.gcd(a**(s//2)+1, N)]\n",
    "    for guess in guesses:\n",
    "        # Check to see if guess is a factor\n",
    "        if guess not in [1, N] and (N % guess) == 0:\n",
    "            return guess"
   ]
  },
  {
   "cell_type": "code",
   "execution_count": null,
   "id": "e97946c1",
   "metadata": {},
   "outputs": [],
   "source": []
  }
 ],
 "metadata": {
  "kernelspec": {
   "display_name": "Python 3 (ipykernel)",
   "language": "python",
   "name": "python3"
  },
  "language_info": {
   "codemirror_mode": {
    "name": "ipython",
    "version": 3
   },
   "file_extension": ".py",
   "mimetype": "text/x-python",
   "name": "python",
   "nbconvert_exporter": "python",
   "pygments_lexer": "ipython3",
   "version": "3.11.5"
  }
 },
 "nbformat": 4,
 "nbformat_minor": 5
}

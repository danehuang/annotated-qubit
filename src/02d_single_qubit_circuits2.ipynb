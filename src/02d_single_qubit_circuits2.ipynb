{
 "cells": [
  {
   "cell_type": "code",
   "execution_count": 1,
   "id": "78c95991",
   "metadata": {},
   "outputs": [],
   "source": [
    "import numpy as np\n",
    "from typing import *\n",
    "\n",
    "from qiskit import QuantumCircuit\n",
    "from qiskit_aer import AerSimulator\n",
    "from qiskit.quantum_info import Statevector, Operator\n",
    "sim = AerSimulator()\n",
    "\n",
    "from util import zero, one, PlotGateOpOnBloch, plot_bloch_vector"
   ]
  },
  {
   "cell_type": "markdown",
   "id": "8dfcad89",
   "metadata": {},
   "source": [
    "# Foundations: Quantum Circuits for a Single Qubit System: Part 2\n",
    "\n",
    "In this notebook, we will use the language of linear algebra to equivalently describe quantum circuits.\n",
    "\n",
    "References\n",
    "1. [Introduction to Classical and Quantum Computing: Chapter 2](https://www.thomaswong.net/introduction-to-classical-and-quantum-computing-1e4p.pdf)"
   ]
  },
  {
   "cell_type": "markdown",
   "id": "a7883261",
   "metadata": {},
   "source": [
    "## Quantum Gates and Unitary Matrices\n",
    "\n",
    "A quantum gate $G$ that acts on a single qubit system can be represented as a $2 \\times 2$ **unitary matrix**. That is, $G \\in \\mathcal{U}(2)$ where $\\mathcal{U}(n)$ is the collection of unitary matrices in $n$ dimensions. We'll start with an example using the Hadamard gate."
   ]
  },
  {
   "cell_type": "markdown",
   "id": "ee702617",
   "metadata": {},
   "source": [
    "### Example: Hadamard Gate\n",
    "\n",
    "The **unitary matrix**\n",
    "\n",
    "$$\n",
    "H = \\frac{1}{\\sqrt{2}} \\begin{pmatrix}\n",
    "1 & 1 \\\\\n",
    "1 & -1 \\\\\n",
    "\\end{pmatrix}\n",
    "$$\n",
    "\n",
    "encodes the Hadamard gate. We'll characterize unitary matrix later."
   ]
  },
  {
   "cell_type": "code",
   "execution_count": 2,
   "id": "bbd8fc33",
   "metadata": {},
   "outputs": [
    {
     "data": {
      "image/png": "[encoded data removed]",
      "text/plain": [
       "<Figure size 185.453x117.056 with 1 Axes>"
      ]
     },
     "execution_count": 2,
     "metadata": {},
     "output_type": "execute_result"
    }
   ],
   "source": [
    "qc_H = QuantumCircuit(1)\n",
    "qc_H.h(0)\n",
    "qc_H.draw(output=\"mpl\", style=\"iqp\")"
   ]
  },
  {
   "cell_type": "code",
   "execution_count": 3,
   "id": "26ecf948",
   "metadata": {},
   "outputs": [
    {
     "data": {
      "text/latex": [
       "$$\n",
       "\n",
       "\\begin{bmatrix}\n",
       "\\frac{\\sqrt{2}}{2} & \\frac{\\sqrt{2}}{2}  \\\\\n",
       " \\frac{\\sqrt{2}}{2} & - \\frac{\\sqrt{2}}{2}  \\\\\n",
       " \\end{bmatrix}\n",
       "$$"
      ],
      "text/plain": [
       "<IPython.core.display.Latex object>"
      ]
     },
     "execution_count": 3,
     "metadata": {},
     "output_type": "execute_result"
    }
   ],
   "source": [
    "# This produces the unitary matrix\n",
    "H = Operator(qc_H)\n",
    "H.draw(\"latex\")"
   ]
  },
  {
   "cell_type": "markdown",
   "id": "0304ca61",
   "metadata": {},
   "source": [
    "### Example: Z Gate\n",
    "\n",
    "The unitary matrix\n",
    "\n",
    "$$\n",
    "Z = \\frac{1}{\\sqrt{2}} \\begin{pmatrix}\n",
    "1 & 0 \\\\\n",
    "0 & -1 \\\\\n",
    "\\end{pmatrix}\n",
    "$$\n",
    "\n",
    "encodes the $Z$ gate."
   ]
  },
  {
   "cell_type": "code",
   "execution_count": 4,
   "id": "2ef1b19e",
   "metadata": {},
   "outputs": [
    {
     "data": {
      "image/png": "[encoded data removed]",
      "text/plain": [
       "<Figure size 185.453x117.056 with 1 Axes>"
      ]
     },
     "execution_count": 4,
     "metadata": {},
     "output_type": "execute_result"
    }
   ],
   "source": [
    "qc_Z = QuantumCircuit(1)\n",
    "qc_Z.z(0)\n",
    "qc_Z.draw(output=\"mpl\", style=\"iqp\")"
   ]
  },
  {
   "cell_type": "code",
   "execution_count": 5,
   "id": "3ae22f1d",
   "metadata": {},
   "outputs": [
    {
     "data": {
      "text/latex": [
       "$$\n",
       "\n",
       "\\begin{bmatrix}\n",
       "1 & 0  \\\\\n",
       " 0 & -1  \\\\\n",
       " \\end{bmatrix}\n",
       "$$"
      ],
      "text/plain": [
       "<IPython.core.display.Latex object>"
      ]
     },
     "execution_count": 5,
     "metadata": {},
     "output_type": "execute_result"
    }
   ],
   "source": [
    "Z = Operator(qc_Z)\n",
    "Z.draw(\"latex\")"
   ]
  },
  {
   "cell_type": "markdown",
   "id": "43c11744",
   "metadata": {},
   "source": [
    "### Example: Phase Gate\n",
    "\n",
    "We can also construct a phase gate that performs a rotation around the $Z$ axis on the Bloch sphere by $\\lambda$ radians as in\n",
    "\n",
    "$$\n",
    "P(\\lambda) = \\begin{pmatrix}\n",
    "1 & 0 \\\\\n",
    "0 & e^{i\\lambda}\n",
    "\\end{pmatrix} \\,.\n",
    "$$"
   ]
  },
  {
   "cell_type": "code",
   "execution_count": 6,
   "id": "7bbe30aa",
   "metadata": {},
   "outputs": [
    {
     "data": {
      "image/png": "[encoded data removed]",
      "text/plain": [
       "<Figure size 185.453x117.056 with 1 Axes>"
      ]
     },
     "execution_count": 6,
     "metadata": {},
     "output_type": "execute_result"
    }
   ],
   "source": [
    "qc_p = QuantumCircuit(1)\n",
    "qc_p.p(np.pi, 0)\n",
    "qc_p.draw(output=\"mpl\", style=\"iqp\")"
   ]
  },
  {
   "cell_type": "code",
   "execution_count": 7,
   "id": "f533cc36",
   "metadata": {},
   "outputs": [
    {
     "data": {
      "text/latex": [
       "$$\n",
       "\n",
       "\\begin{bmatrix}\n",
       "1 & 0  \\\\\n",
       " 0 & -1  \\\\\n",
       " \\end{bmatrix}\n",
       "$$"
      ],
      "text/plain": [
       "<IPython.core.display.Latex object>"
      ]
     },
     "execution_count": 7,
     "metadata": {},
     "output_type": "execute_result"
    }
   ],
   "source": [
    "# A phase of 180 degrees is equivalent to a Z gate\n",
    "def P(angle):\n",
    "    qc_p = QuantumCircuit(1)\n",
    "    qc_p.p(angle / 180 * np.pi, 0)\n",
    "    return Operator(qc_p)\n",
    "P(180).draw(\"latex\")"
   ]
  },
  {
   "cell_type": "markdown",
   "id": "47a4af46",
   "metadata": {},
   "source": [
    "### Gate Application is Matrix Multiplication\n",
    "\n",
    "The application of a gate $G$ to a qubit $|q\\rangle$ is notated\n",
    "\n",
    "$$\n",
    "G |q\\rangle\n",
    "$$\n",
    "\n",
    "and corresponds to the multiplication of the corresponding $2 \\times 2$ unitary matrix to the quantum state encoded by $|q\\rangle$."
   ]
  },
  {
   "cell_type": "markdown",
   "id": "6a310ffb",
   "metadata": {},
   "source": [
    "#### Example\n",
    "\n",
    "Below, we show by example that matrix multiplication and the evolution of a quantum state under a gate are equivalent."
   ]
  },
  {
   "cell_type": "code",
   "execution_count": 8,
   "id": "8e4d1628",
   "metadata": {},
   "outputs": [
    {
     "name": "stdout",
     "output_type": "stream",
     "text": [
      "Matrix multiplication [0.70710678+0.j 0.70710678+0.j]\n"
     ]
    },
    {
     "data": {
      "text/latex": [
       "$$\\frac{\\sqrt{2}}{2} |0\\rangle+\\frac{\\sqrt{2}}{2} |1\\rangle$$"
      ],
      "text/plain": [
       "<IPython.core.display.Latex object>"
      ]
     },
     "execution_count": 8,
     "metadata": {},
     "output_type": "execute_result"
    }
   ],
   "source": [
    "print(\"Matrix multiplication\", np.array(Operator(qc_H)) @ np.array(zero))\n",
    "(zero.evolve(Operator(qc_H))).draw('latex')"
   ]
  },
  {
   "cell_type": "code",
   "execution_count": 9,
   "id": "9ea3922e",
   "metadata": {},
   "outputs": [
    {
     "name": "stdout",
     "output_type": "stream",
     "text": [
      "Matrix multiplication [ 0.70710678+0.j -0.70710678+0.j]\n"
     ]
    },
    {
     "data": {
      "text/latex": [
       "$$\\frac{\\sqrt{2}}{2} |0\\rangle- \\frac{\\sqrt{2}}{2} |1\\rangle$$"
      ],
      "text/plain": [
       "<IPython.core.display.Latex object>"
      ]
     },
     "execution_count": 9,
     "metadata": {},
     "output_type": "execute_result"
    }
   ],
   "source": [
    "print(\"Matrix multiplication\", np.array(Operator(qc_H)) @ np.array(one))\n",
    "(one.evolve(Operator(qc_H))).draw('latex')"
   ]
  },
  {
   "cell_type": "markdown",
   "id": "a7ae81d6",
   "metadata": {},
   "source": [
    "## Unitary Matrix Review\n",
    "\n",
    "Unitary matrices have two properties that are important for quantum computing:\n",
    "1. invertible and\n",
    "2. norm preservation."
   ]
  },
  {
   "cell_type": "markdown",
   "id": "8ab80eeb",
   "metadata": {},
   "source": [
    "### Invertibility and Reversibility\n",
    "\n",
    "Every unitary matrix is **invertible**. As a reminder, this means that for any unitary matrix $U$, there exists another unitary matrix $U^{-1}$ such that\n",
    "\n",
    "$$\n",
    "U U^{-1} = U^{-1} U = I\n",
    "$$\n",
    "\n",
    "where $I$ is the identity matrix. This means that that quantum computations are **reversible**, since the application of a gate $U$ can always be undone by another gate $U^{-1}$."
   ]
  },
  {
   "cell_type": "code",
   "execution_count": 10,
   "id": "e0302e81",
   "metadata": {},
   "outputs": [
    {
     "data": {
      "text/latex": [
       "$$\n",
       "\n",
       "\\begin{bmatrix}\n",
       "1 & 0  \\\\\n",
       " 0 & 1  \\\\\n",
       " \\end{bmatrix}\n",
       "$$"
      ],
      "text/plain": [
       "<IPython.core.display.Latex object>"
      ]
     },
     "execution_count": 10,
     "metadata": {},
     "output_type": "execute_result"
    }
   ],
   "source": [
    "# This demonstrates that H is its own inverse\n",
    "(Operator(qc_H) @ Operator(qc_H)).draw(\"latex\")"
   ]
  },
  {
   "cell_type": "markdown",
   "id": "6b92a8f6",
   "metadata": {},
   "source": [
    "#### Conjugate Transpose\n",
    "\n",
    "For a unitary matrix, the inverse takes a special form: it is the **conjugate transpose**, i..e.,\n",
    "\n",
    "$$\n",
    "U^{-1} = U^\\dagger \\,.\n",
    "$$"
   ]
  },
  {
   "cell_type": "code",
   "execution_count": 11,
   "id": "a8a2c67f",
   "metadata": {},
   "outputs": [
    {
     "data": {
      "text/latex": [
       "$$\n",
       "\n",
       "\\begin{bmatrix}\n",
       "1 & 0  \\\\\n",
       " 0 & 1  \\\\\n",
       " \\end{bmatrix}\n",
       "$$"
      ],
      "text/plain": [
       "<IPython.core.display.Latex object>"
      ]
     },
     "execution_count": 11,
     "metadata": {},
     "output_type": "execute_result"
    }
   ],
   "source": [
    "(P(30) @ np.conj(P(30)).T).draw(\"latex\")"
   ]
  },
  {
   "cell_type": "markdown",
   "id": "1493c9ad",
   "metadata": {},
   "source": [
    "### Norm Preservation and Quantum Circuits\n",
    "\n",
    "Every unitary matrix **preserves the norm** of the input vector. In symbols,\n",
    "\n",
    "$$\n",
    "\\lVert U x \\rVert = \\lVert x \\rVert \\,.\n",
    "$$"
   ]
  },
  {
   "cell_type": "code",
   "execution_count": 12,
   "id": "9a948c7a",
   "metadata": {},
   "outputs": [
    {
     "data": {
      "text/plain": [
       "(1.0, 0.9999999999999999)"
      ]
     },
     "execution_count": 12,
     "metadata": {},
     "output_type": "execute_result"
    }
   ],
   "source": [
    "# This demonstrates that H preserves the norm\n",
    "np.linalg.norm(zero), np.linalg.norm(np.array(Operator(qc_H)) @ np.array(zero))"
   ]
  },
  {
   "cell_type": "markdown",
   "id": "72203372",
   "metadata": {},
   "source": [
    "#### Sequencing Gates\n",
    "\n",
    "The direct consequence of norm preservation is that applying a quantum gate to a single qubit produces an output that is also a qubit. This means that we can sequence the application of quantum gates to form a quantum computation as a quantum circuit. As a reminder, consider the circuit where we apply $H$ followed by a $Z$."
   ]
  },
  {
   "cell_type": "code",
   "execution_count": 13,
   "id": "4a43c4ad",
   "metadata": {},
   "outputs": [
    {
     "data": {
      "image/png": "[encoded data removed]",
      "text/plain": [
       "<Figure size 269.064x117.056 with 1 Axes>"
      ]
     },
     "execution_count": 13,
     "metadata": {},
     "output_type": "execute_result"
    }
   ],
   "source": [
    "qc = QuantumCircuit(1)\n",
    "qc.h(0)\n",
    "qc.z(0)\n",
    "qc.draw(output=\"mpl\", style=\"iqp\")"
   ]
  },
  {
   "cell_type": "code",
   "execution_count": 14,
   "id": "dd1fdec6",
   "metadata": {},
   "outputs": [
    {
     "data": {
      "image/png": "[encoded data removed]",
      "text/plain": [
       "<Figure size 800x400 with 2 Axes>"
      ]
     },
     "metadata": {},
     "output_type": "display_data"
    }
   ],
   "source": [
    "with PlotGateOpOnBloch() as ctx:\n",
    "    plot_bloch_vector(zero, ax=ctx.ax1, title=\"Before H-Z\")\n",
    "    plot_bloch_vector(zero.evolve(Operator(qc)), ax=ctx.ax2, title=\"After H-Z\")"
   ]
  },
  {
   "cell_type": "markdown",
   "id": "f51c1ee1",
   "metadata": {},
   "source": [
    "We can write the quantum circuit above using matrix multiplication as in\n",
    "\n",
    "\\begin{align*}\n",
    "|q_\\text{output}\\rangle & = ZH|0\\rangle \\tag{definition of circuit} \\\\\n",
    "& = ZH \\begin{pmatrix}\n",
    "1 \\\\\n",
    "0\n",
    "\\end{pmatrix} \\tag{substitute $|0\\rangle$} \\\\\n",
    "& = Z \n",
    "\\frac{1}{\\sqrt{2}} \\begin{pmatrix}\n",
    "1 & 1 \\\\\n",
    "1 & -1 \\\\\n",
    "\\end{pmatrix} \\begin{pmatrix}\n",
    "1 \\\\\n",
    "0\n",
    "\\end{pmatrix} \\tag{substitute $H$} \\\\\n",
    "& = Z \\frac{1}{\\sqrt{2}}(|0\\rangle + |1\\rangle) \\tag{matrix multiplication} \\\\\n",
    "& = \\begin{pmatrix}\n",
    "1 & 0 \\\\\n",
    "0 & -1\n",
    "\\end{pmatrix} \\frac{1}{\\sqrt{2}}(|0\\rangle + |1\\rangle) \\tag{substitue $Z$} \\\\\n",
    "& = \\frac{1}{\\sqrt{2}}(|0\\rangle - |1\\rangle) \\tag{matrix multiplication} \\,. \\\\\n",
    "\\end{align*}\n",
    "\n",
    "Norm preservation ensures that\n",
    "1. $\\lVert H|0\\rangle \\rVert = \\lVert |0\\rangle \\rVert$ and\n",
    "2. $\\lVert Z(H|0\\rangle) \\rVert = \\lVert H|0\\rangle \\rVert$.\n",
    "\n",
    "Since $\\lVert |0\\rangle \\rVert = 1$, we have that $\\lVert Z(H|0\\rangle) \\rVert = 1$ as well, so we have a valid quantum state."
   ]
  },
  {
   "cell_type": "code",
   "execution_count": 15,
   "id": "a9c8f3ed",
   "metadata": {},
   "outputs": [
    {
     "data": {
      "text/latex": [
       "$$ |0\\rangle$$"
      ],
      "text/plain": [
       "<IPython.core.display.Latex object>"
      ]
     },
     "execution_count": 15,
     "metadata": {},
     "output_type": "execute_result"
    }
   ],
   "source": [
    "# Initial\n",
    "zero.draw(\"latex\")"
   ]
  },
  {
   "cell_type": "code",
   "execution_count": 16,
   "id": "01bc2c4e",
   "metadata": {},
   "outputs": [
    {
     "data": {
      "text/latex": [
       "$$\\frac{\\sqrt{2}}{2} |0\\rangle+\\frac{\\sqrt{2}}{2} |1\\rangle$$"
      ],
      "text/plain": [
       "<IPython.core.display.Latex object>"
      ]
     },
     "execution_count": 16,
     "metadata": {},
     "output_type": "execute_result"
    }
   ],
   "source": [
    "# Apply H\n",
    "q1 = zero.evolve(H)\n",
    "q1.draw(\"latex\")"
   ]
  },
  {
   "cell_type": "code",
   "execution_count": 17,
   "id": "2aab9f61",
   "metadata": {},
   "outputs": [
    {
     "data": {
      "text/latex": [
       "$$\\frac{\\sqrt{2}}{2} |0\\rangle- \\frac{\\sqrt{2}}{2} |1\\rangle$$"
      ],
      "text/plain": [
       "<IPython.core.display.Latex object>"
      ]
     },
     "execution_count": 17,
     "metadata": {},
     "output_type": "execute_result"
    }
   ],
   "source": [
    "# Apply Z\n",
    "q_after = q1.evolve(Z)\n",
    "q_after.draw(\"latex\")"
   ]
  },
  {
   "cell_type": "markdown",
   "id": "97b42cf2",
   "metadata": {},
   "source": [
    "#### Aisde: Order of H and Z\n",
    "\n",
    "It may seem odd that the circuit is read left-to-right but the application of matrix multiplication was from right-to-left. However, forgetting quantum computation for a moment and considering in ordinary programming how we might apply $H$ to an input, and then $Z$, we'll recognize that the order should be right-to-left."
   ]
  },
  {
   "cell_type": "code",
   "execution_count": 18,
   "id": "c259c982",
   "metadata": {},
   "outputs": [
    {
     "name": "stdout",
     "output_type": "stream",
     "text": [
      "Incorrect order for applying H, then Z: 3\n",
      "Correct order for apply H, then Z, is right-to-left: 4\n"
     ]
    }
   ],
   "source": [
    "def Z(x):\n",
    "    return 2 * x\n",
    "\n",
    "def H(x):\n",
    "    return x + 1\n",
    "\n",
    "print(\"Incorrect order for applying H, then Z:\", H(Z(1)))\n",
    "print(\"Correct order for apply H, then Z, is right-to-left:\", Z(H(1)))"
   ]
  },
  {
   "cell_type": "markdown",
   "id": "cf88bc4b",
   "metadata": {},
   "source": [
    "#### Sequencing Gates corresponds to Matrix Multiplication\n",
    "\n",
    "Alternatively, we can simplify the sequence of gate applications to a single \"gate\" by multiplying all the gates together. For example,\n",
    "\n",
    "\\begin{align*}\n",
    "ZH & = \\begin{pmatrix}\n",
    "1 & 0 \\\\\n",
    "0 & -1\n",
    "\\end{pmatrix}\\frac{1}{\\sqrt{2}} \\begin{pmatrix}\n",
    "1 & 1 \\\\\n",
    "1 & -1 \\\\\n",
    "\\end{pmatrix} \\\\\n",
    "& = \\frac{1}{\\sqrt{2}} \\begin{pmatrix}\n",
    "1 & 1 \\\\\n",
    "-1 & 1\n",
    "\\end{pmatrix} \\,.\n",
    "\\end{align*}\n",
    "\n",
    "The quantum state can then be calculated as\n",
    "\n",
    "\\begin{align*}\n",
    "|q_\\text{output}\\rangle & = ZH|0\\rangle \\tag{definition of circuit} \\\\\n",
    "& = ZH \\begin{pmatrix}\n",
    "1 \\\\\n",
    "0\n",
    "\\end{pmatrix} \\tag{substitute $|0\\rangle$} \\\\\n",
    "& = \\frac{1}{\\sqrt{2}} \\begin{pmatrix}\n",
    "1 & 1 \\\\\n",
    "-1 & 1\n",
    "\\end{pmatrix} \\begin{pmatrix}\n",
    "1 \\\\\n",
    "0\n",
    "\\end{pmatrix} \\tag{substitute $ZH$} \\\\\n",
    "& = \\frac{1}{\\sqrt{2}}(|0\\rangle - |1\\rangle) \\tag{matrix multiplication}\n",
    "\\end{align*}"
   ]
  },
  {
   "cell_type": "code",
   "execution_count": 19,
   "id": "d140d4cb",
   "metadata": {},
   "outputs": [
    {
     "data": {
      "text/latex": [
       "$$\n",
       "\n",
       "\\begin{bmatrix}\n",
       "\\frac{\\sqrt{2}}{2} & \\frac{\\sqrt{2}}{2}  \\\\\n",
       " - \\frac{\\sqrt{2}}{2} & \\frac{\\sqrt{2}}{2}  \\\\\n",
       " \\end{bmatrix}\n",
       "$$"
      ],
      "text/plain": [
       "<IPython.core.display.Latex object>"
      ]
     },
     "execution_count": 19,
     "metadata": {},
     "output_type": "execute_result"
    }
   ],
   "source": [
    "H = Operator(qc_H)\n",
    "Z = Operator(qc_Z)\n",
    "\n",
    "ZH = Z @ H\n",
    "ZH.draw(\"latex\")"
   ]
  },
  {
   "cell_type": "code",
   "execution_count": 20,
   "id": "ea4e0820",
   "metadata": {},
   "outputs": [
    {
     "data": {
      "text/latex": [
       "$$\\frac{\\sqrt{2}}{2} |0\\rangle- \\frac{\\sqrt{2}}{2} |1\\rangle$$"
      ],
      "text/plain": [
       "<IPython.core.display.Latex object>"
      ]
     },
     "execution_count": 20,
     "metadata": {},
     "output_type": "execute_result"
    }
   ],
   "source": [
    "# Apply ZH\n",
    "zero.evolve(Z @ H).draw(\"latex\")"
   ]
  },
  {
   "cell_type": "markdown",
   "id": "e8fa6a04",
   "metadata": {},
   "source": [
    "#### Reversibility and Sequencing\n",
    "\n",
    "As we might guess, we can reverse the computation a sequence of gates performs by applying the inverse of each gate in reverse order."
   ]
  },
  {
   "cell_type": "code",
   "execution_count": 21,
   "id": "2c06383b",
   "metadata": {},
   "outputs": [
    {
     "data": {
      "image/png": "[encoded data removed]",
      "text/plain": [
       "<Figure size 352.675x117.056 with 1 Axes>"
      ]
     },
     "execution_count": 21,
     "metadata": {},
     "output_type": "execute_result"
    }
   ],
   "source": [
    "qc = QuantumCircuit(1)\n",
    "qc.h(0)\n",
    "qc.p(np.pi / 3, 0)\n",
    "qc.y(0)\n",
    "qc.draw(output=\"mpl\", style=\"iqp\")"
   ]
  },
  {
   "cell_type": "code",
   "execution_count": 22,
   "id": "a470fc97",
   "metadata": {},
   "outputs": [
    {
     "data": {
      "image/png": "[encoded data removed]",
      "text/plain": [
       "<Figure size 352.675x117.056 with 1 Axes>"
      ]
     },
     "execution_count": 22,
     "metadata": {},
     "output_type": "execute_result"
    }
   ],
   "source": [
    "qc_rev = QuantumCircuit(1)\n",
    "qc_rev.y(0)               # Y is it's own inverse\n",
    "qc_rev.p(-np.pi / 3, 0)   # Rotate the other direction\n",
    "qc_rev.h(0)               # H is it's own inverse\n",
    "qc_rev.draw(output=\"mpl\", style=\"iqp\")"
   ]
  },
  {
   "cell_type": "code",
   "execution_count": 23,
   "id": "5653b14d",
   "metadata": {},
   "outputs": [
    {
     "data": {
      "text/latex": [
       "$$\n",
       "\n",
       "\\begin{bmatrix}\n",
       "1 & 0  \\\\\n",
       " 0 & 1  \\\\\n",
       " \\end{bmatrix}\n",
       "$$"
      ],
      "text/plain": [
       "<IPython.core.display.Latex object>"
      ]
     },
     "execution_count": 23,
     "metadata": {},
     "output_type": "execute_result"
    }
   ],
   "source": [
    "(Operator(qc) @ Operator(qc_rev)).draw(\"latex\")"
   ]
  },
  {
   "cell_type": "markdown",
   "id": "5ffda9e9",
   "metadata": {},
   "source": [
    "## Gate-Based Quantum Computing\n",
    "\n",
    "1. In classical computation, we could encode an arbitrary truth table with circuits formed from a preselected set of gates (nand gates).\n",
    "2. Similarly in **gate-based quantum computing**, we would try to encode an arbitrary transformation on a quantum state with quantum circuits from a preselected set of gates. In order to do this, we will need a **universal gate set**."
   ]
  },
  {
   "cell_type": "markdown",
   "id": "e0ae4aa5",
   "metadata": {},
   "source": [
    "## Summary\n",
    "\n",
    "1. We reviewed the connection between $2 \\times 2$ unitary matrices and gates that act on a single qubit system.\n",
    "2. We saw that every quantum computation was reversible.\n",
    "3. The preservation of norm ensures that we can sequence the application of quantum gates to form a quantum circuit."
   ]
  },
  {
   "cell_type": "code",
   "execution_count": null,
   "id": "7937e01a",
   "metadata": {},
   "outputs": [],
   "source": []
  }
 ],
 "metadata": {
  "kernelspec": {
   "display_name": "Python 3 (ipykernel)",
   "language": "python",
   "name": "python3"
  },
  "language_info": {
   "codemirror_mode": {
    "name": "ipython",
    "version": 3
   },
   "file_extension": ".py",
   "mimetype": "text/x-python",
   "name": "python",
   "nbconvert_exporter": "python",
   "pygments_lexer": "ipython3",
   "version": "3.11.5"
  }
 },
 "nbformat": 4,
 "nbformat_minor": 5
}

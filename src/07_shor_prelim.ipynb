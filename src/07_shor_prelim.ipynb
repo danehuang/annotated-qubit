{
 "cells": [
  {
   "cell_type": "code",
   "execution_count": 1,
   "id": "a52959f7",
   "metadata": {},
   "outputs": [],
   "source": [
    "from typing import *\n",
    "import math\n",
    "import numpy as np\n",
    "import random\n",
    "\n",
    "random.seed(0)\n",
    "np.random.seed(0)\n",
    "from util import euler_totient, prime_seive"
   ]
  },
  {
   "cell_type": "markdown",
   "id": "351fc4c8",
   "metadata": {},
   "source": [
    "# Shor's Part 1/5: RSA\n",
    "\n",
    "In this notebook, we'll begin our series on **Shor's algorithm**, one of the most famous quantum algorithms. Shor's algorithm gives an efficient quantum algorithm for factoring integers, and thus, can be used to break cryptographic protocols based on the hardness of factoring integers such as RSA. In preparation for introducing Shor's algorithm, we'll begin by reviewing the RSA algorithm.\n",
    "\n",
    "References\n",
    "1. [Introduction to Classical and Quantum Computing, Chapter 7.10](https://www.thomaswong.net/introduction-to-classical-and-quantum-computing-1e4p.pdf)\n",
    "2. [Qiskit notebook on Shor's Algorithm](https://github.com/Qiskit/textbook/blob/main/notebooks/ch-algorithms/shor.ipynb)\n",
    "3. [Introduction to Quantum Information Science: Lecture 19 by Scott Aaronson](https://www.scottaaronson.com/qclec.pdf)\n",
    "4. [https://en.wikipedia.org/wiki/RSA_(cryptosystem)](https://en.wikipedia.org/wiki/RSA_(cryptosystem))"
   ]
  },
  {
   "cell_type": "markdown",
   "id": "2ff03de2",
   "metadata": {},
   "source": [
    "## Introduction\n",
    "\n",
    "1. **RSA** (Rivest–Shamir–Adleman) is a **public-key cryptosystem** named after its inventors Ron Rivest, Adi Shamir and Leonard Adleman who publicly described the algorithm in 1977.\n",
    "2. RSA is commonly used to secure communication on the internet, e.g., [Openssl](https://www.openssl.org/docs/man1.1.1/man1/openssl-rsa.html).\n",
    "3. Its security assumes the hardness of factoring integers. Thus, if we had an efficient algorithm for factoring integers, we would be able to compromise the security of RSA."
   ]
  },
  {
   "cell_type": "markdown",
   "id": "d0b47a12",
   "metadata": {},
   "source": [
    "## Public Key Cryptosystem\n",
    "\n",
    "A **public key cryptosystem** involves two main concepts.\n",
    "1. A **public key** is a key that is shared openly and can be used by any party to encrypt messages or create signatures.\n",
    "2. A **private key** is a key that is kept secret by its owner and is used to decrypt messages or verify signatures.\n",
    "\n",
    "One application of a public key cryptosystem is for creating **digital signatures**. A digital signature is a protocol that enables autheticity and identity verification.\n",
    "1. The party whose identity we would like to verify can create a public and private key pair. That party keeps the private key private and distributes the public key openly.\n",
    "2. To prove identity, that party can sign a message with their private key and distribute to any third party.\n",
    "2. The third party can use the public key to verify the message.\n"
   ]
  },
  {
   "cell_type": "markdown",
   "id": "e09ade32",
   "metadata": {},
   "source": [
    "## Components of RSA Algorithm\n",
    "\n",
    "RSA is a public key cryptosystem that uses the following keys.\n",
    "1. The public key is a pair of natural numbers $(N, e)$.\n",
    "2. The private key is a natural number $d$. \n",
    "\n",
    "The keys are generated using basic concepts from number theory (see Appendix: Factoring) using the following steps.\n",
    "1. Choose $p$ and $q$ large primes.\n",
    "    * Such $p$ and $q$ can be efficiently obtained with [Rabin-Milner's primality test](https://en.wikipedia.org/wiki/Miller%E2%80%93Rabin_primality_test).\n",
    "    * $p$ and $q$ must be kept private.\n",
    "2. Compute $N = pq$.\n",
    "    * $N$ is **public**.\n",
    "3. Compute Euler's totient function $\\phi(N)$.\n",
    "    * Recall $\\phi(N) = (p − 1)(q − 1)$.\n",
    "    * $\\phi(N)$ is **private**.\n",
    "4. Choose $2 < e < \\phi(N)$ relatively prime to $N$, e.g., $e = 7$ when $N = 15$\n",
    "    * $e$ is **public**.\n",
    "5. Solve $1 \\equiv de \\, (\\text{mod} \\, \\phi(n))$ for d (known as multiplicative modular inverse).\n",
    "    * $d$ is kept **private**.\n",
    "    \n",
    "We'll cover the encryption and decryption steps next."
   ]
  },
  {
   "cell_type": "markdown",
   "id": "81498694",
   "metadata": {},
   "source": [
    "### RSA Encryption\n",
    "\n",
    "A sender encrypts a **message** $m$ with RSA by sending the **cyphertext** $c = m^{e} \\, (\\text{mod} \\, N)$. Note that we only use the public key $(N, e)$ and not the private key $d$."
   ]
  },
  {
   "cell_type": "code",
   "execution_count": 2,
   "id": "cc3c7951",
   "metadata": {},
   "outputs": [],
   "source": [
    "def naive_rsa_encrypt(public_key: Tuple[int, int], m: int) -> int:\n",
    "    N, e = public_key\n",
    "    return (m ** e) % N"
   ]
  },
  {
   "cell_type": "markdown",
   "id": "786ef3f0",
   "metadata": {},
   "source": [
    "### RSA Decryption\n",
    "\n",
    "A receiver decrypts a cyphertext $c$ by computing $m = c^{d} \\, (\\text{mod} \\, N)$. Note that we use the private key $d$ and part of the public key $N$."
   ]
  },
  {
   "cell_type": "code",
   "execution_count": 3,
   "id": "cd05666b",
   "metadata": {},
   "outputs": [],
   "source": [
    "def naive_rsa_decrypt(private_key: Tuple[int, int], c: int) -> int:\n",
    "    N, d = private_key\n",
    "    return (c ** d) % N"
   ]
  },
  {
   "cell_type": "markdown",
   "id": "aaa739d9",
   "metadata": {},
   "source": [
    "### Optional: Why does it work?\n",
    "\n",
    "We'll show that the RSA encryption and decyption scheme is sound, i.e., the decryption of the encryption of a message $m$ gives the original message. In symbols, we want to show\n",
    "\n",
    "$$\n",
    "(m^{e})^{d} \\, (\\text{mod} \\, pq) \\equiv m \\, (\\text{mod} \\, pq) \\,.\n",
    "$$\n",
    "\n",
    "This follows from the calculation\n",
    "\\begin{align*}\n",
    "(m^{e})^{d} \\, (\\text{mod} \\, pq) & \\equiv m^{ed - 1}m \\, (\\text{mod} \\, pq) \\tag{rearranging} \\\\\n",
    "& \\equiv m^{j\\phi(N)}m \\, (\\text{mod} \\, pq) \\tag{$ed \\equiv 1 \\, (\\text{mod} \\, \\phi(N)))$} \\\\\n",
    "& \\equiv (m^{(p-1)(q-1)})^j m \\, (\\text{mod} \\, pq) \\tag{Euler's totient} \\\\\n",
    "& \\equiv (1)^j m \\, (\\text{mod} \\, pq) \\tag{Euler's theorem} \\\\\n",
    "& \\equiv m \\, (\\text{mod} \\, pq) \\tag{simplification} \\,.\n",
    "\\end{align*}"
   ]
  },
  {
   "cell_type": "markdown",
   "id": "93eb3a46",
   "metadata": {},
   "source": [
    "### Example\n",
    "\n",
    "We now walkthrough a toy example to concretize the discussion."
   ]
  },
  {
   "cell_type": "code",
   "execution_count": 4,
   "id": "3722e82f",
   "metadata": {},
   "outputs": [],
   "source": [
    "# Step 1: Choose p and q large primes\n",
    "\n",
    "# For pedagogical purposes, we'll choose small primes\n",
    "p = 29   \n",
    "q = 37"
   ]
  },
  {
   "cell_type": "code",
   "execution_count": 5,
   "id": "95bd58aa",
   "metadata": {},
   "outputs": [
    {
     "data": {
      "text/plain": [
       "1073"
      ]
     },
     "execution_count": 5,
     "metadata": {},
     "output_type": "execute_result"
    }
   ],
   "source": [
    "# Step 2: Compute N = pq\n",
    "N = p * q\n",
    "N"
   ]
  },
  {
   "cell_type": "code",
   "execution_count": 6,
   "id": "e1cdf11d",
   "metadata": {},
   "outputs": [
    {
     "data": {
      "text/plain": [
       "1008"
      ]
     },
     "execution_count": 6,
     "metadata": {},
     "output_type": "execute_result"
    }
   ],
   "source": [
    "# Step 3: Compute Euler's totient function\n",
    "phi_N = euler_totient(N)  # 1008\n",
    "phi_N"
   ]
  },
  {
   "cell_type": "code",
   "execution_count": 7,
   "id": "830e2aae",
   "metadata": {},
   "outputs": [
    {
     "data": {
      "text/plain": [
       "5"
      ]
     },
     "execution_count": 7,
     "metadata": {},
     "output_type": "execute_result"
    }
   ],
   "source": [
    "# Step 4: Choose 2 < e < euler_totient(N) relatively prime to N\n",
    "def choose_e(phi_N: int) -> int:    \n",
    "    while True:\n",
    "        e = 5\n",
    "        if math.gcd(e, N) == 1:\n",
    "            return e\n",
    "        e += 2\n",
    "    \n",
    "e = choose_e(phi_N)\n",
    "e"
   ]
  },
  {
   "cell_type": "code",
   "execution_count": 8,
   "id": "99654754",
   "metadata": {},
   "outputs": [
    {
     "data": {
      "text/plain": [
       "605"
      ]
     },
     "execution_count": 8,
     "metadata": {},
     "output_type": "execute_result"
    }
   ],
   "source": [
    "# Step 5: Perform multiplicative modular inverse\n",
    "def solve_mult_mod_inv(x, m):\n",
    "    # Needed for step 5\n",
    "    a = 0\n",
    "    while True:\n",
    "        if (a * x) % m == 1:\n",
    "            return a\n",
    "        a += 1\n",
    "#         if a % 500 == 0:\n",
    "#             print(f\"Solving mult_mot_inv({x}, {m}) at iteration: {a}\")\n",
    "        \n",
    "d = solve_mult_mod_inv(e, phi_N)\n",
    "d"
   ]
  },
  {
   "cell_type": "code",
   "execution_count": 9,
   "id": "d2bccc11",
   "metadata": {},
   "outputs": [
    {
     "name": "stdout",
     "output_type": "stream",
     "text": [
      "public key (1073, 5)\n",
      "private key (1073, 605)\n"
     ]
    }
   ],
   "source": [
    "# Form the public and private keys\n",
    "public_key = (N, e)\n",
    "private_key = (N, d)\n",
    "print(\"public key\", public_key)\n",
    "print(\"private key\", private_key)"
   ]
  },
  {
   "cell_type": "code",
   "execution_count": 10,
   "id": "89c092c0",
   "metadata": {},
   "outputs": [
    {
     "name": "stdout",
     "output_type": "stream",
     "text": [
      "Encrypting 65 gives 1002\n",
      "Decrypting 1002 gives 65\n"
     ]
    }
   ],
   "source": [
    "# Testing the implementation\n",
    "\n",
    "message = 65\n",
    "cyphertext = naive_rsa_encrypt(public_key, message)\n",
    "print(f\"Encrypting {message} gives {cyphertext}\")\n",
    "message2 = naive_rsa_decrypt(private_key, cyphertext)\n",
    "print(f\"Decrypting {cyphertext} gives {message2}\")"
   ]
  },
  {
   "cell_type": "markdown",
   "id": "67b5c04e",
   "metadata": {},
   "source": [
    "### Aside: Modular Exponentiation\n",
    "\n",
    "Computing \n",
    "\n",
    "$$\n",
    "b^e \\, (\\text{mod} \\, m)\n",
    "$$\n",
    "\n",
    "for large $e$ is inefficient and may lead to overflow if we aren't careful.\n",
    "\n",
    "Aside: This step is the reason why Shor's algorithm is actually difficult to implement in practice."
   ]
  },
  {
   "cell_type": "code",
   "execution_count": 11,
   "id": "44cee1fc",
   "metadata": {},
   "outputs": [],
   "source": [
    "def mod_exp_by_square(base, expon, modulus):\n",
    "    if expon == 1:\n",
    "        return base\n",
    "    elif expon % 2 == 0:\n",
    "        # Solution 2: Repeated squaring\n",
    "        res = mod_exp_by_square(base, expon / 2, modulus)\n",
    "        return (res ** 2) % modulus\n",
    "    else:\n",
    "        # Solution 2: Repeated squaring\n",
    "        res = mod_exp_by_square(base, (expon-1) / 2, modulus)\n",
    "        return (base * res ** 2) % modulus"
   ]
  },
  {
   "cell_type": "code",
   "execution_count": 12,
   "id": "37caeaaa",
   "metadata": {},
   "outputs": [
    {
     "name": "stdout",
     "output_type": "stream",
     "text": [
      "Naive computation 46\n",
      "Smart computation 46\n"
     ]
    }
   ],
   "source": [
    "print(\"Naive computation\", 23 ** 20 % 345)\n",
    "print(\"Smart computation\", mod_exp_by_square(23, 20, 345))"
   ]
  },
  {
   "cell_type": "code",
   "execution_count": 13,
   "id": "aa7d60ac",
   "metadata": {},
   "outputs": [],
   "source": [
    "def less_naive_rsa_encrypt(public_key: Tuple[int, int], m: int) -> int:\n",
    "    N, e = public_key\n",
    "    return mod_exp_by_square(m, e, N)\n",
    "\n",
    "def less_naive_rsa_decrypt(private_key: Tuple[int, int], c: int) -> int:\n",
    "    N, d = private_key\n",
    "    return mod_exp_by_square(c, d, N)"
   ]
  },
  {
   "cell_type": "code",
   "execution_count": 14,
   "id": "bf61c036",
   "metadata": {},
   "outputs": [
    {
     "name": "stdout",
     "output_type": "stream",
     "text": [
      "Encrypting 65 gives 1002\n",
      "Decrypting 1002 gives 65\n"
     ]
    }
   ],
   "source": [
    "message = 65\n",
    "cyphertext = less_naive_rsa_encrypt(public_key, message)\n",
    "print(f\"Encrypting {message} gives {cyphertext}\")\n",
    "message2 = less_naive_rsa_decrypt(private_key, cyphertext)\n",
    "print(f\"Decrypting {cyphertext} gives {message2}\")"
   ]
  },
  {
   "cell_type": "markdown",
   "id": "54256bc8",
   "metadata": {},
   "source": [
    "### Putting it all together\n",
    "\n",
    "The code below gathers the steps needed for a naive implementation of RSA."
   ]
  },
  {
   "cell_type": "code",
   "execution_count": 15,
   "id": "e5516b44",
   "metadata": {},
   "outputs": [],
   "source": [
    "def naive_generate_rsa_key_pair() -> Tuple[Tuple[int, int], Tuple[int, int]]:\n",
    "    # Step 1: Pick primes (small for pedagogical purposes)\n",
    "    primes = np.array(prime_seive(50)[1:])  # Skip 2\n",
    "    np.random.shuffle(primes)\n",
    "    p, q = primes[0], primes[1]\n",
    "    \n",
    "    # Step 2: Compute N = pq\n",
    "    N = p * q\n",
    "    \n",
    "    # Step 3: Compute Euler's totient function\n",
    "    phi_N = euler_totient(N)\n",
    "    \n",
    "    # Step 4: Choose 2 < e < euler_totient(N) relatively prime to N\n",
    "    e = choose_e(phi_N)\n",
    "    \n",
    "    # Step 5: Perform multiplicative modular inverse\n",
    "    d = solve_mult_mod_inv(e, phi_N)\n",
    "    \n",
    "    # Output\n",
    "    print(f\"p: {p}, q: {q}, N: {N}, phi_N: {phi_N}, e: {e}, d: {d}\")\n",
    "\n",
    "    # Return\n",
    "    public_key = (N, e)\n",
    "    private_key = (N, d)\n",
    "    return public_key, private_key"
   ]
  },
  {
   "cell_type": "code",
   "execution_count": 16,
   "id": "79b413cc",
   "metadata": {},
   "outputs": [
    {
     "name": "stdout",
     "output_type": "stream",
     "text": [
      "p: 29, q: 19, N: 551, phi_N: 504, e: 5, d: 101\n",
      "Encrypting 65 gives 1002\n",
      "Decrypting 1002 gives 65\n"
     ]
    }
   ],
   "source": [
    "public_key2, private_key2 = naive_generate_rsa_key_pair()\n",
    "\n",
    "message = 65\n",
    "cyphertext = less_naive_rsa_encrypt(public_key, message)\n",
    "print(f\"Encrypting {message} gives {cyphertext}\")\n",
    "message2 = less_naive_rsa_decrypt(private_key, cyphertext)\n",
    "print(f\"Decrypting {cyphertext} gives {message2}\")"
   ]
  },
  {
   "cell_type": "markdown",
   "id": "4209ec00",
   "metadata": {},
   "source": [
    "## Shor's Algorithm Preview\n",
    "\n",
    "Shor's algorithm is a polynomial time algorithm for factoring integers. It is comprised of\n",
    "- **quantum order finding** to efficiently solve the order finding problem,\n",
    "- a classical continued fractions algorithm for interpreting the results of quantum order finding, and\n",
    "- a classical reduction for solving integer factorization in terms of a solution to the order finding problem.\n",
    "\n",
    "In the next series of notebooks, we will study quantum order finding in more detail. This algorithm is comprised of several quantum sub-routines:\n",
    "- the **Quantum Fourier Transform** (QFT),\n",
    "- **modular exponentiation**, and\n",
    "- **quantum phase estimation** (QPE).\n",
    "We will then put this all together to implement Shor's algorithm end-to-end."
   ]
  },
  {
   "cell_type": "markdown",
   "id": "f4c97f46",
   "metadata": {},
   "source": [
    "## Summary\n",
    "\n",
    "1. We reviewed the RSA public key cryptosystem. The security of the RSA public key cryptosystem depends on the hardness of factoring integers.\n",
    "2. We previewed Shor's algorithm, which gives an efficient quantum algorithm for factoring integers."
   ]
  }
 ],
 "metadata": {
  "kernelspec": {
   "display_name": "Python 3 (ipykernel)",
   "language": "python",
   "name": "python3"
  },
  "language_info": {
   "codemirror_mode": {
    "name": "ipython",
    "version": 3
   },
   "file_extension": ".py",
   "mimetype": "text/x-python",
   "name": "python",
   "nbconvert_exporter": "python",
   "pygments_lexer": "ipython3",
   "version": "3.11.5"
  }
 },
 "nbformat": 4,
 "nbformat_minor": 5
}
